{
 "cells": [
  {
   "cell_type": "code",
   "execution_count": null,
   "metadata": {},
   "outputs": [],
   "source": [
    "import numpy as np\n",
    "import matplotlib.pyplot as plt\n",
    "from scipy.linalg import solve\n",
    "from scipy.integrate import solve_ivp\n"
   ]
  },
  {
   "cell_type": "markdown",
   "metadata": {},
   "source": [
    "## Orbit solution"
   ]
  },
  {
   "cell_type": "code",
   "execution_count": null,
   "metadata": {},
   "outputs": [],
   "source": [
    "def big_system(t, Y_M, f, Gradf, dim, A, a, b, gamma, eta):\n",
    "    # Solving numerically the initial value problem (dy/dt,dM/dt = (f(t,y),Gradf*M) \n",
    "    X_M = np.zeros((dim+dim**2)) #We solve simustanuously d+d*d ODEs to link up the solution and the monodromy matrix computation\n",
    "    M = Y_M[dim:].reshape(dim, dim, order=\"F\")  # Reshape the flat array back into a dim^2 x dim matrix\n",
    "    dM_dt = Gradf(t,Y_M[:dim], A, a, b, gamma, eta) @ M  # Compute the matrix derivative\n",
    "    X_M[:dim] = f(t, Y_M[:dim],A,a,b,gamma,eta)\n",
    "    X_M[dim:] = dM_dt.flatten(order = \"F\")\n",
    "    return X_M"
   ]
  },
  {
   "cell_type": "code",
   "execution_count": null,
   "metadata": {},
   "outputs": [],
   "source": [
    "def Newton_orbit(f,s, X_0,T_0,A, a, b, gamma, eta, Gradf,GradS,ds_T, Max_iter, epsilon):\n",
    "    #Ici on resoud tout le system en assemblant la grande matrice par bloque\n",
    "    dim = np.shape(X_0)[0] #The problem dimension\n",
    "\n",
    "    #________________________________INITIALISATION___________________________________________________________\n",
    "    k, Xstar_0, Tstar = 0, X_0, T_0\n",
    "    # sol = solve_ivp(fun=f,t_span=[0.0, T_0], y0=X_0, t_eval=np.linspace(0.0, Tstar, 10),\n",
    "    #                  method='RK45', args = params, option={\"jac\": Gradf, \"rtol\": 1e-6,\"atol\":1e-9})#,\"max_step\": max_step})\n",
    "    # G_Xstar_0 = sol.y[:,-1] - Xstar_0 #We take the solution at t=T\n",
    "\n",
    "    # #The complete rhd of the Newton system\n",
    "    # B = np.concatenate((G_Xstar_0, np.array([s(Tstar,Xstar_0, params[0], params[3])])))\n",
    "\n",
    "    X_by_iter, T_by_iter = np.zeros((Max_iter,dim)),np.zeros((Max_iter))\n",
    "    Norm_B = Norm_DeltaX = np.zeros((Max_iter))\n",
    "    Norm_DeltaX[0] = norm_delta_X = 1 # \n",
    "    # Norm_B[0] = np.linalg.norm(B)\n",
    "\n",
    "    #_____________Newton iteration loop________________\n",
    "    while norm_delta_X > epsilon  and k < Max_iter:\n",
    "        print(\"Iteration\", k, \"\\n\")\n",
    "        print(\"Norm(Dx) = \", norm_delta_X,\"\\n\")\n",
    "        X_by_iter[k,:] = Xstar_0\n",
    "        Norm_DeltaX[k] = norm_delta_X\n",
    "                \n",
    "        X_by_iter[k,:] = Xstar_0\n",
    "        T_by_iter[k] = Tstar\n",
    "\n",
    "\n",
    "        X_M = np.zeros((dim+dim**2)) #We solve simustanuously d+d*d ODEs\n",
    "        monodromy = np.eye(dim) #Initialisation of the monodromy matrix\n",
    "\n",
    "        X_M[:dim] = Xstar_0\n",
    "        X_M[dim:] = monodromy.flatten(order='F')\n",
    "        big_sol= solve_ivp(big_system, [0.0,Tstar], X_M,\n",
    "                            t_eval=[Tstar],\n",
    "                            args=(f,Gradf,dim,A, a, b, gamma, eta),\n",
    "                            method='RK45',**{\"rtol\": 1e-6,\"atol\":1e-9}) #It's a function of t\n",
    "        \n",
    "        Xstar_T = big_sol.y[:dim,-1] #dimension d+d*d\n",
    "        monodromy = big_sol.y[dim:][:,-1] #We take M(T)\n",
    "\n",
    "        monodromy = monodromy.reshape(dim,dim, order = \"F\") #Back to the square matrix format\n",
    "        d = ds_T(Xstar_0, Tstar)\n",
    "        c = GradS(Tstar,Xstar_0, gamma)\n",
    "        bb = f(Tstar, Xstar_T, A, a, b, gamma, eta)\n",
    "        #Concat the whole matrix\n",
    "        top = np.hstack((monodromy - np.eye(dim), bb.reshape(-1,1)))  # Horizontal stacking of A11=M-I and A12=b\n",
    "        bottom = np.hstack((c.reshape(1,-1),np.array([[d]])))  # Horizontal stacking of A21=c and A22=d\n",
    "        Mat = np.vstack((top, bottom))  # Vertical stacking of the two rows\n",
    "        \n",
    "        #Right hand side concatenation\n",
    "        B = np.concatenate((Xstar_T - Xstar_0, np.array([s(Tstar,Xstar_0, A,gamma)])))\n",
    "        XX = solve(Mat,-B) #Contain Delta_X and Delta_T\n",
    "        #XX = np.linalg.lstsq(Mat, -B, rcond=None)[0]\n",
    "        Delta_X = XX[:dim]\n",
    "        Delta_T = XX[-1]\n",
    "        \n",
    "        #Updating\n",
    "        Xstar_0 += Delta_X\n",
    "        Tstar += Delta_T\n",
    "\n",
    "        norm_delta_X = np.linalg.norm(Delta_X)\n",
    "        Norm_B[k] = np.linalg.norm(B)\n",
    "\n",
    "        k = k+1\n",
    "        \n",
    "    # Compute the eigenvalues (Floquet multipliers) of the monodromy matrix\n",
    "    # eigenvalues, eigenvectors = np.linalg.eig(monodromy)\n",
    "    return k, T_by_iter, X_by_iter, Norm_B, Norm_DeltaX, monodromy#, eigenvalues\n"
   ]
  },
  {
   "cell_type": "markdown",
   "metadata": {},
   "source": [
    "### APPLICATION TO THE LASER EQUATION"
   ]
  },
  {
   "cell_type": "code",
   "execution_count": null,
   "metadata": {},
   "outputs": [],
   "source": [
    "K = lambda a,b,X: 1 + a/(1+b*X)\n",
    "def f(t,X, A, a, b, gamma, eta): \n",
    "        return np.array([(X[1] - K(a,b,X[0]))*X[0] + eta*X[1],\n",
    "                                  (A-X[1]-X[1]*X[0])*gamma])\n",
    "\n",
    "Gradf = lambda t,X,A,a,b,gamma,eta: np.array([[a*b*X[0]/((1+b*X[0])**2) + X[1] - K(a,b,X[0]), \n",
    "                                                 X[0]+ eta],\n",
    " \n",
    "                                                 [-gamma*X[1],-gamma*(1+X[0])]])\n",
    "\n",
    "\n",
    "\n",
    "# Variable chang L = log(I)\n",
    "fL = lambda t,X,A,a,b,gamma,eta: np.array([(X[1] - K(a,b,np.exp(X[0]))) + eta*X[1]/np.exp(X[0]),\n",
    "                                  (A-X[1]-X[1]*np.exp(X[0]))*gamma])\n",
    "\n",
    "GradfL = lambda t,X,A,a,b,gamma,eta: np.array([[a*b*np.exp(X[0])/(1+b*np.exp(X[0]))**2 -eta*X[1]*np.exp(-X[0]), \n",
    "                                                 1 + eta*np.exp(-X[0])],\n",
    "                                                 [-gamma*X[1]*np.exp(X[0]),-gamma*(1+np.exp(X[0]))]])\n",
    "\n",
    "s = lambda t,X,A,gamma: gamma*(A-X[1]-X[1]*X[0])\n",
    "ds_T = lambda t,X : 0.0\n",
    "GradS = lambda t,X,gamma: np.array([-gamma*X[1],-gamma*(1+X[0])])\n",
    "\n",
    "Max_iter = 100\n",
    "epsilon = 1e-13"
   ]
  },
  {
   "cell_type": "code",
   "execution_count": null,
   "metadata": {},
   "outputs": [],
   "source": [
    "A = 5\n",
    "a = b = 0.05\n",
    "gamma, eta = 1e-3, 0.0\n",
    "args = (A,a,b,gamma,eta)\n",
    "I0, D0 = 3., 1.2\n",
    "T0 = 0.820\n",
    "X0 = np.array([I0,D0])\n",
    "sol = solve_ivp(fun=f,t_span=[0.0, 10*T0],\n",
    "                t_eval=np.linspace(0.0,10*T0, 10), \n",
    "                y0=X0, method='LSODA', \n",
    "                args = args,vectorized=False,\n",
    "                **{\"rtol\": 1e-9,\"atol\":1e-12}\n",
    "                )\n",
    "Y = sol.y[:,-1]"
   ]
  },
  {
   "cell_type": "code",
   "execution_count": null,
   "metadata": {},
   "outputs": [],
   "source": [
    "T_ini = 120.\n",
    "I0, D0 =  2.0, 1.18\n",
    "X0 = np.array([I0,D0])"
   ]
  },
  {
   "cell_type": "code",
   "execution_count": null,
   "metadata": {},
   "outputs": [],
   "source": [
    "k, Tstar, XX, Norm_B, Norm_DX,M = Newton_orbit(f,s, X0,T_ini,A, a, b, gamma, eta, Gradf,GradS,ds_T, Max_iter, epsilon)"
   ]
  },
  {
   "cell_type": "code",
   "execution_count": null,
   "metadata": {},
   "outputs": [],
   "source": [
    "print(XX[k-1])\n",
    "Tstar[k-1]"
   ]
  },
  {
   "cell_type": "code",
   "execution_count": null,
   "metadata": {},
   "outputs": [],
   "source": [
    "XX\n",
    "X0 = XX[k-1]\n",
    "sol = solve_ivp(fun=f,t_span=[0.0, 14*Tstar[k-1]],\n",
    "                t_eval=np.linspace(0.0,14*Tstar[k-1], 1000), \n",
    "                y0=X0, method='LSODA', \n",
    "                args = args,vectorized=False,\n",
    "                **{\"rtol\": 1e-9,\"atol\":1e-12}\n",
    "                )"
   ]
  },
  {
   "cell_type": "markdown",
   "metadata": {},
   "source": [
    "## Ploting"
   ]
  },
  {
   "cell_type": "code",
   "execution_count": null,
   "metadata": {},
   "outputs": [],
   "source": [
    "fig, ax = plt.subplots(2,2,sharex='all')\n",
    "Tab = np.asarray(XX[:k])\n",
    "ax[0,0].plot(np.arange(k),Tab[:,1],'+-')\n",
    "ax[0,0].set_ylabel(f\"$D_0$\")\n",
    "\n",
    "ax[0,1].plot(np.arange(k),Tab[:,0],'+-')\n",
    "ax[0,1].set_ylabel(f\"$L_0$\")\n",
    "ax[1,0].semilogy(np.arange(k),Norm_DX[:k],'x-')\n",
    "ax[1,0].set_xlabel(\"Newton iterations\")\n",
    "ax[1,0].set_ylabel(f\"$\\parallel \\Delta X \\parallel$\")\n",
    "ax[1,1].plot(np.arange(k),Tstar[:k],'x-')\n",
    "ax[1,1].set_xlabel(\"Newton iterations\")\n",
    "ax[1,1].set_ylabel(f\"T\")\n",
    "# ax[1,1].set_ylabel(f\"$\\parallel (r,s) \\parallel_2$\")\n",
    "fig.set_size_inches((8,8))\n",
    "fig.suptitle(f'Laser model: Newton with a non fixed period \\n Parameters: $A = %0.f, a = %.2f,b = %.2f, \\eta = %.2f, \\gamma = %.3f, T_0 = %.0f, I_0 = %.0f, D_0= %.2f $' % (A, a,b,eta,gamma, T_ini, I0,D0))\n",
    "\n",
    "fig.subplots_adjust(left=0.09, bottom=0.1, right=0.95, top=0.90, hspace=0.35, wspace=0.55)\n",
    "plt.savefig('./Results/Laser_model.png')"
   ]
  },
  {
   "cell_type": "code",
   "execution_count": null,
   "metadata": {},
   "outputs": [],
   "source": [
    "X = sol.y\n",
    "times_intervall = sol.t\n",
    "plt.plot(times_intervall,X[0,:])\n",
    "# plt.xlim([0,2*130])\n",
    "#plt.plot(times_intervall,X[1,:])\n",
    "\n",
    "plt.xlabel(\"time\")\n",
    "plt.ylabel(\"I0\")\n",
    "plt.grid()\n",
    "plt.show()\n",
    "# plt.plot(times_intervall,X[:,1])\n",
    "# plt.ylabel(\"D0\")\n",
    "# plt.show()\n",
    "plt.plot(X[0,:], X[1,:])\n",
    "plt.grid()\n",
    "X.shape\n"
   ]
  },
  {
   "cell_type": "code",
   "execution_count": null,
   "metadata": {},
   "outputs": [],
   "source": [
    "eigenvalues, eigenvectors = np.linalg.eig(M)\n",
    "print(\"Eigen values of the Monodromy matrix \",np.abs(eigenvalues))\n",
    "Tab = np.asarray(XX[:k])\n",
    "plt.plot(np.arange(k), Tab[:,0], label = \"I0\")\n",
    "plt.plot(np.arange(k),Tab[:,1], label = \"D0\")\n",
    "plt.xlabel(\"Newton iteration\")\n",
    "plt.ylabel(\"I0,D0\")\n",
    "plt.legend()\n",
    "# plt.plot(np.arange(k), Tstar, label = \"T\")\n",
    "XX[k-1]"
   ]
  }
 ],
 "metadata": {
  "kernelspec": {
   "display_name": ".venv",
   "language": "python",
   "name": "python3"
  },
  "language_info": {
   "codemirror_mode": {
    "name": "ipython",
    "version": 3
   },
   "file_extension": ".py",
   "mimetype": "text/x-python",
   "name": "python",
   "nbconvert_exporter": "python",
   "pygments_lexer": "ipython3",
   "version": "3.9.13"
  }
 },
 "nbformat": 4,
 "nbformat_minor": 2
}
