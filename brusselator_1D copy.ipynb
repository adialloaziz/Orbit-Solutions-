{
 "cells": [
  {
   "cell_type": "code",
   "execution_count": null,
   "metadata": {},
   "outputs": [],
   "source": [
    "import numpy as np\n",
    "import matplotlib.pyplot as plt\n",
    "from scipy.integrate import solve_ivp\n",
    "from scipy.linalg import solve\n",
    "from utility import Newton_orbit, BrusselatorModel\n",
    "\n",
    "import matplotlib.animation as animation\n"
   ]
  },
  {
   "cell_type": "code",
   "execution_count": null,
   "metadata": {},
   "outputs": [],
   "source": [
    "def brusselator_inner(Dx, Dy,L,A,B,z_L,N):\n",
    "    \n",
    "    # Discretize space\n",
    "    h = z_L / (N - 1)  # Grid spacing\n",
    "    def Lap_mat(N):\n",
    "        main_diag = -2  * np.ones(N)\n",
    "        off_diag = np.ones(N - 1)\n",
    "        laplacian = np.diag(main_diag) + np.diag(off_diag, k=1) + np.diag(off_diag, k=-1)\n",
    "        return laplacian\n",
    "    \n",
    "    def dydt(t, y):\n",
    "        X = y[:N-2]\n",
    "        Y = y[N-2:] \n",
    "\n",
    "        # Central difference for ALL INNER POINTS (indices 1 to N-2)\n",
    "        # Inner points (central difference)\n",
    "       \n",
    "        # Dirichlet BCs\n",
    "        X_BCs = A*np.eye(1,N-2,0)[0] + A*np.eye(1,N-2,N-3)[0]\n",
    "        Y_BCs = (B/A)*np.eye(1,N-2,0)[0] + (B/A)*np.eye(1,N-2,N-3)[0]\n",
    "        \n",
    "        d2Xdz2 = (1/h**2)*(Lap_mat(N-2)@X + X_BCs)\n",
    "        d2Ydz2 = (1/h**2)* (Lap_mat(N-2)@Y + Y_BCs)\n",
    "        # Reaction-diffusion equation\n",
    "        dXdt = Dx/(L**2) * d2Xdz2 + Y*(X**2) - (B+1)*X + A\n",
    "        dYdt = Dy/(L**2) * d2Ydz2 - Y*(X**2) + B*X\n",
    "\n",
    "        dydt = np.concatenate([dXdt, dYdt])\n",
    "        return dydt\n",
    "    \n",
    "\n",
    "    def brusselator_jacobian(t,y): # A faire : Stockage creuse de la matrice \n",
    "        X = y[:N-2]\n",
    "        Y = y[N-2:]\n",
    "        n = len(X) #The inner points of the mesh\n",
    "        h = z_L / (N - 1)\n",
    "        \n",
    "        # Diffusion coefficients\n",
    "        alpha_x = Dx / (L*h)**2\n",
    "        alpha_y = Dy / (L*h)**2\n",
    "        \n",
    "        # Fill J_y_by_iter and J_YY (tridiagonal blocks)\n",
    "        Jxx = alpha_x*Lap_mat(n) - (B+1)*np.eye(n) + 2*np.diag(X*Y)\n",
    "        Jyy = alpha_y*Lap_mat(n) - np.diag(X**2)\n",
    "        Jyx = np.diag(X**2)\n",
    "        Jxy = B*np.eye(n) - 2*np.diag(X*Y)\n",
    "        #Assembling the whole matrix\n",
    "        top = np.hstack((Jxx, Jyx))  # Horizontal stacking of A11=M-I and A12=b\n",
    "        bottom = np.hstack((Jxy,Jyy)) # Horizontal stacking of A21=c and A22=d\n",
    "        J = np.vstack((top, bottom))  # Vertical stacking of the two rows\n",
    "        return J\n",
    "    #Phase conditions\n",
    "\n",
    "    def s1(t,y): \n",
    "        \n",
    "        return dydt(t,y)[0]\n",
    "    \n",
    "    def ds1_dy(t,y):\n",
    "        return brusselator_jacobian(t,y)[0,:]\n",
    "    def ds1_dT(t,y):\n",
    "\n",
    "        return 0.0\n",
    "    def s2(t,y,y_preced):\n",
    "        return (y-y_preced)@dydt(t,y_preced)\n",
    "    def ds2_dy(t,y):\n",
    "        return dydt(t,y)\n",
    "    return dydt, brusselator_jacobian, s1, ds1_dy, ds1_dT\n"
   ]
  },
  {
   "cell_type": "markdown",
   "metadata": {},
   "source": [
    "## Trial Run"
   ]
  },
  {
   "cell_type": "code",
   "execution_count": null,
   "metadata": {},
   "outputs": [],
   "source": [
    "# Example usage\n",
    "if __name__ == \"__main__\":\n",
    "    # Parameters\n",
    "    Dx = 0.008\n",
    "    Dy = 0.004\n",
    "    L = 0.5130 #1.5 #1*0.5130 #characteristic length\n",
    "    z_L = 1  #Domain length\n",
    "    A,B = 2,5.45   \n",
    "    N = 50 # Number of grid points\n",
    " \n",
    "    \n",
    "    # Initial condition (e.g., a Gaussian pulse)\n",
    "    z = np.linspace(0, z_L, N)\n",
    "    # perturb = 0.1 * np.exp(-((z - z_L / 2)**2)) #*np.concatenate([A*np.ones(N),(B/A)*np.ones(N)])\n",
    "    perturb = np.sin(np.pi*(z/z_L))\n",
    "    X0 = A + 0.1*perturb\n",
    "    Y0 = B/A + 0.1*perturb\n",
    "    # # Enforce Dirichlet BCs on the initial condition\n",
    "    # Y0[0], Y0[-1] = B/A, B/A  \n",
    "    # X0[0], X0[-1] = A, A\n",
    "    y0 = np.concatenate([X0[1:-1],Y0[1:-1]])\n",
    "\n",
    "    # Create the system\n",
    "    # system = brusselator_1D(Dx, Dy, L, A,B,z_L,N)\n",
    "    f, Jacf, s, grad_s,ds_T = brusselator_inner(Dx, Dy, L, A,B,z_L,N)\n",
    "    tf = 200\n",
    "    t_span = (0, tf)  # Time span\n",
    "    sol = solve_ivp(f, t_span, y0, method='BDF', t_eval=np.linspace(0, tf, 1000), jac = Jacf)"
   ]
  },
  {
   "cell_type": "code",
   "execution_count": null,
   "metadata": {},
   "outputs": [],
   "source": [
    "y_ini = sol.y[:,-1]\n",
    "y_ini.shape"
   ]
  },
  {
   "cell_type": "code",
   "execution_count": null,
   "metadata": {},
   "outputs": [],
   "source": [
    "# Plot the solution\n",
    "plt.figure(figsize=(10, 6))\n",
    "for i, t in enumerate(sol.t):\n",
    "    if i % 900== 0:  # Plot every 50th time step\n",
    "        plt.plot(z[1:-1], sol.y[:N-2, i],'+', label=f\"X, t={t:.2f}\")\n",
    "        plt.plot(z[1:-1], sol.y[N-2:, i],'+', label=f\"Y, t={t:.2f}\")\n",
    "\n",
    "plt.xlabel(\"z\")\n",
    "plt.ylabel(\"Concentrations X, Y\")\n",
    "plt.legend()\n",
    "plt.title(\"Brusselator Model with Dirichlet BCs\")\n",
    "plt.show()\n",
    "\n",
    "#Heat map "
   ]
  },
  {
   "cell_type": "code",
   "execution_count": null,
   "metadata": {},
   "outputs": [],
   "source": [
    "Xmean = sol.y[:N-2,:]\n",
    "Xmean = np.mean(Xmean,axis = 0)\n",
    "Ymean = sol.y[N-2:,:]\n",
    "Ymean = np.mean(Ymean,axis = 0)\n",
    "\n",
    "fig, ax = plt.subplots(1,2)\n",
    "ax[0].plot(np.linspace(0, tf, 1000), Xmean, label = '<X>')\n",
    "ax[0].plot(np.linspace(0, tf, 1000), Ymean, label='<Y>')\n",
    "ax[0].legend()\n",
    "ax[0].set_ylabel(f\"$Concentrations$\")\n",
    "ax[0].set_xlabel(\"t\")\n",
    "ax[1].plot(Xmean,Ymean)\n",
    "ax[1].set_ylabel(f\"$<Y>$\")\n",
    "ax[1].set_xlabel(f\"$<X>$\")\n",
    "fig.set_size_inches((10,5))\n",
    "fig.suptitle(f'Brusselator Model with Dirichlet BCs:')\n",
    "fig.subplots_adjust(left=0.09, bottom=0.1, right=0.95, top=0.90, hspace=0.35, wspace=0.55)\n",
    "# plt.savefig(f'./Results/brusselator_1D.png')"
   ]
  },
  {
   "cell_type": "markdown",
   "metadata": {},
   "source": [
    "## Newton orbite "
   ]
  },
  {
   "cell_type": "code",
   "execution_count": null,
   "metadata": {},
   "outputs": [],
   "source": [
    "if __name__ == \"__main__\":\n",
    "    param_file = \"./brusselator_params_4.in\"  # JSON file containing model parameters\n",
    "    model = BrusselatorModel(param_file)\n",
    "    print(\"Loaded parameters:\", model.L)\n",
    "\n",
    "f = model.dydt\n",
    "Jacf = model.brusselator_jacobian"
   ]
  },
  {
   "cell_type": "code",
   "execution_count": null,
   "metadata": {},
   "outputs": [],
   "source": [
    "# Parameters\n",
    "# Dx = 0.008\n",
    "# Dy = 0.004\n",
    "# L = 0.5130 #1.5 #1*0.5130 #characteristic length\n",
    "# z_L = 1  \n",
    "# A,B = 2,5.45   \n",
    "# N = 50\n",
    "# Initial condition (e.g., a Gaussian pulse)\n",
    "z_L = model.z_L\n",
    "N = model.N\n",
    "A, B = model.A, model.B\n",
    "z = np.linspace(0, z_L, N)\n",
    "perturb = np.sin(np.pi*(z/z_L))\n",
    "\n",
    "X0 = A + 0.01*perturb\n",
    "Y0 = B/A + 0.01*perturb\n",
    "\n",
    "y0 = np.concatenate([X0[1:-1],Y0[1:-1]])\n",
    "\n",
    "# Create the system\n",
    "# f, Jacf, s, grad_s,ds_T = brusselator_inner(Dx, Dy, L, A,B,z_L,N)\n",
    "\n",
    "\n",
    "Max_iter = 100\n",
    "epsilon = 1e-13\n",
    "T_0 = model.T_ini"
   ]
  },
  {
   "cell_type": "markdown",
   "metadata": {},
   "source": [
    "### Initial integration\n",
    "\n",
    "Integrate sufficiently the equation to find a good starting value for the Newton method\n",
    "We expect y_0 to be in the periodic orbit. "
   ]
  },
  {
   "cell_type": "code",
   "execution_count": null,
   "metadata": {},
   "outputs": [],
   "source": [
    "t_eval = np.linspace(0.0,20*T_0, 1000)\n",
    "\n",
    "sol = solve_ivp(fun=f,t_span=[0.0, 20*T_0],\n",
    "                t_eval=t_eval, \n",
    "                y0=y0, method='RK45', \n",
    "                **{\"rtol\": 1e-7,\"atol\":1e-9}\n",
    "                )\n",
    "\n",
    "y_T = sol.y[:,-1]\n",
    "y_T.shape"
   ]
  },
  {
   "cell_type": "code",
   "execution_count": null,
   "metadata": {},
   "outputs": [],
   "source": [
    "# f, Jacf, s, grad_s,ds_T = brusselator_inner(Dx, Dy, L, A,B,z_L,N)\n",
    "k, T_by_iter, y_by_iter, Norm_B, Norm_Deltay, monodromy = Newton_orbit(f,y_T,T_0, Jacf,2, Max_iter, epsilon)\n",
    "\n"
   ]
  },
  {
   "cell_type": "code",
   "execution_count": null,
   "metadata": {},
   "outputs": [],
   "source": [
    "eig, eigvec = np.linalg.eig(monodromy)\n",
    "mask = np.abs(eig) - 1 >  1e-7\n",
    "print(\"Number of Floquet multipliers outside the unit circle\\n\",len(eig[mask]))\n",
    "\n",
    "print(\"Spectral radius of the Monodromy matrix:\\n\",np.max(np.abs(eig)))"
   ]
  },
  {
   "cell_type": "code",
   "execution_count": null,
   "metadata": {},
   "outputs": [],
   "source": [
    "# Extract real and imaginary parts of eigenvalues\n",
    "real_parts = np.real(eig)\n",
    "imaginary_parts = np.imag(eig)\n",
    "print(imaginary_parts.shape)\n",
    "# Create the figure and axis\n",
    "fig, ax = plt.subplots(figsize=(6, 6))\n",
    "\n",
    "# Plot the unit circle\n",
    "theta = np.linspace(0, 2 * np.pi, 1000)\n",
    "circle_x = np.cos(theta)\n",
    "circle_y = np.sin(theta)\n",
    "ax.plot(circle_x, circle_y, 'k--', label='Unit Circle')\n",
    "\n",
    "# Plot the eigenvalues\n",
    "ax.scatter(real_parts, imaginary_parts, color='r', label='Eigenvalues')\n",
    "\n",
    "# Set labels and title\n",
    "ax.set_xlabel(f'Re($\\lambda$)')\n",
    "ax.set_ylabel(f'Im($\\lambda$)')\n",
    "ax.set_title(f'Eigenvalues of the Monodromy matrix on Complex Plane\\n with L = {model.L}')\n",
    "\n",
    "# Set equal aspect ratio\n",
    "ax.set_aspect('equal', 'box')\n",
    "\n",
    "# Add grid, legend, and plot\n",
    "ax.grid(True)\n",
    "# ax.legend()\n",
    "\n",
    "# Show the plot\n",
    "plt.show()"
   ]
  },
  {
   "cell_type": "code",
   "execution_count": null,
   "metadata": {},
   "outputs": [],
   "source": [
    "print(y_by_iter[k-1][:N-2][23])\n",
    "print(y_by_iter[k-1][N-2:][23])\n",
    "print(T_by_iter[k-1])\n",
    "k"
   ]
  },
  {
   "cell_type": "code",
   "execution_count": null,
   "metadata": {},
   "outputs": [],
   "source": [
    "Tab = np.asarray(y_by_iter[:k-1])\n",
    "X = Tab[:,N-2:]\n",
    "Y = Tab[:,:N-2]\n"
   ]
  },
  {
   "cell_type": "code",
   "execution_count": null,
   "metadata": {},
   "outputs": [],
   "source": [
    "fig, ax = plt.subplots(2,2,sharex='all')\n",
    "ax[0,0].plot(np.arange(k-1),X.mean(axis=1),'+-')\n",
    "ax[0,0].set_ylabel(f\"$<X>$\")\n",
    "\n",
    "ax[0,1].plot(np.arange(k-1),Y.mean(axis=1),'+-')\n",
    "ax[0,1].set_ylabel(f\"$<Y>$\")\n",
    "ax[1,0].semilogy(np.arange(k),Norm_Deltay[:k],'x-')\n",
    "ax[1,0].set_xlabel(\"Newton iterations\")\n",
    "ax[1,0].set_ylabel(f\"$\\parallel \\Delta X \\parallel$\")\n",
    "ax[1,1].semilogy(np.arange(k),Norm_B[:k],'x-')\n",
    "ax[1,1].set_xlabel(\"Newton iterations\")\n",
    "ax[1,1].set_ylabel(f\"$\\parallel \\phi(X^*(0),T) - X^*(T) \\parallel$\")\n",
    "# ax[1,1].set_ylabel(f\"$\\parallel (r,s) \\parallel_2$\")\n",
    "fig.set_size_inches((8,8))\n",
    "fig.suptitle(f'Brusselator model: $L=%.4f$ \\n $T = %.4f$ ' % (model.L, T_by_iter[k-1]))\n",
    "fig.subplots_adjust(left=0.09, bottom=0.1, right=0.95, top=0.90, hspace=0.35, wspace=0.55)\n",
    "# plt.savefig(f'./Results/Modulated_Laser_T_known_m_{str(m)}.png')"
   ]
  },
  {
   "cell_type": "code",
   "execution_count": null,
   "metadata": {},
   "outputs": [],
   "source": [
    "y0 = np.array(y_by_iter[k-1])\n",
    "t_eval = np.linspace(0.0,20*T_by_iter[k-1], 1000)\n",
    "\n",
    "sol = solve_ivp(fun=f,t_span=[0.0, 20*T_by_iter[k-1]],\n",
    "                t_eval=t_eval, \n",
    "                y0=y0, method='RK45', \n",
    "                **{\"rtol\": 1e-7,\"atol\":1e-9}\n",
    "                )\n",
    "\n",
    "y_T = sol.y[:,-1]\n",
    "y_T.shape"
   ]
  },
  {
   "cell_type": "code",
   "execution_count": null,
   "metadata": {},
   "outputs": [],
   "source": [
    "Xmean = sol.y[:N-2,:]\n",
    "#Xmean = np.mean(Xmean,axis = 0)\n",
    "Ymean = sol.y[N-2:,:]\n",
    "#Ymean = np.mean(Ymean,axis = 0)"
   ]
  },
  {
   "cell_type": "code",
   "execution_count": null,
   "metadata": {},
   "outputs": [],
   "source": [
    "fig, ax = plt.subplots(1,2)\n",
    "ax[0].plot(t_eval, Xmean[23], label = '<X>')\n",
    "ax[0].plot(t_eval, Ymean[23], label='<Y>')\n",
    "ax[0].legend()\n",
    "ax[0].set_ylabel(f\"$Concentrations$\")\n",
    "ax[0].set_xlabel(\"t\")\n",
    "ax[1].plot(Xmean[23],Ymean[23])\n",
    "ax[1].set_ylabel(f\"$<Y>$\")\n",
    "ax[1].set_xlabel(f\"$<X>$\")\n",
    "fig.set_size_inches((10,5))\n",
    "fig.suptitle(f'Brusselator Model with Dirichlet BCs:')\n",
    "fig.subplots_adjust(left=0.09, bottom=0.1, right=0.95, top=0.90, hspace=0.35, wspace=0.55)\n",
    "# plt.savefig(f'./Results/brusselator_1D.png')"
   ]
  }
 ],
 "metadata": {
  "kernelspec": {
   "display_name": ".venv",
   "language": "python",
   "name": "python3"
  },
  "language_info": {
   "codemirror_mode": {
    "name": "ipython",
    "version": 3
   },
   "file_extension": ".py",
   "mimetype": "text/x-python",
   "name": "python",
   "nbconvert_exporter": "python",
   "pygments_lexer": "ipython3",
   "version": "3.9.13"
  }
 },
 "nbformat": 4,
 "nbformat_minor": 2
}
