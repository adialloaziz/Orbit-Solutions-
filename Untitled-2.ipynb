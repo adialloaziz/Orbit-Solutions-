{
 "cells": [
  {
   "cell_type": "code",
   "execution_count": 1,
   "metadata": {},
   "outputs": [],
   "source": [
    "import numpy as np\n",
    "import matplotlib.pyplot as plt\n",
    "from scipy.linalg import expm\n",
    "from scipy.linalg import solve\n",
    "import scipy\n",
    "import scipy.integrate\n",
    "from scipy.integrate import solve_ivp\n"
   ]
  },
  {
   "cell_type": "code",
   "execution_count": 2,
   "metadata": {},
   "outputs": [],
   "source": [
    "def f_modul(t,X, A, m, w, gamma): \n",
    "        return np.array([X[1] - 1 - m*np.cos(w*t) ,\n",
    "                            (A - X[1]*(1 + np.exp(X[0])))*gamma])\n",
    "\n",
    "Jacf_modul = lambda t,X,gamma: np.array([[0,1],\n",
    "                                                [-gamma*X[1]*np.exp(X[0]),-gamma*(1+np.exp(X[0]))]])\n",
    "s_modul = lambda t,X,A,m,w,gamma : X[1] - 1 - m\n",
    "GradS_modul = lambda t,X,A,m,w,gamma: np.array([0,1])\n",
    "\n",
    "s_modul2 = lambda t,X, A,m,w,gamma: gamma*(A - X[1]*(1+np.exp(X[0])))\n",
    "GradS_modul2 = lambda t,X,A,m,w,gamma: np.array([-gamma*X[1]*np.exp(X[0]),-gamma*(1+np.exp(X[0]))])\n",
    "\n",
    "ds_T_modul = lambda t,X: 0.0"
   ]
  },
  {
   "cell_type": "code",
   "execution_count": 3,
   "metadata": {},
   "outputs": [],
   "source": [
    "def big_system(t, Y_M, f, Jacf, dim, A, m, w, gamma):\n",
    "    # Solving numerically the initial value problem (dy/dt,dM/dt = (f(t,y),Gradf*M) \n",
    "    X_M = np.zeros((dim+dim**2),dtype=np.float64) #We solve simustanuously d+d*d ODEs to link up the solution and the monodromy matrix computation\n",
    "    M = Y_M[dim:].reshape(dim, dim, order=\"F\")  # Reshape the flat array back into a dim^2 x dim matrix\n",
    "    dM_dt = Jacf(t,Y_M[:dim],gamma) @ M  # Compute the matrix derivative\n",
    "    X_M[:dim] = f(t, Y_M[:dim],A,m,w,gamma)\n",
    "    X_M[dim:] = dM_dt.flatten(order = \"F\")\n",
    "    return X_M"
   ]
  },
  {
   "cell_type": "code",
   "execution_count": 4,
   "metadata": {},
   "outputs": [],
   "source": [
    "def Newton_orbit2(f,s, X_0,T_0,A, m, w, gamma, Gradf,GradS,ds_T, Max_iter, epsilon):\n",
    "    \n",
    "    dim = np.shape(X_0)[0] #The problem's dimension\n",
    "    #________________________________INITIALISATION_____________________________________\n",
    "    k, Xstar_0, Tstar = 0, X_0, T_0\n",
    "    sol = solve_ivp(fun=f,t_span=[0.0, Tstar], y0=X_0, t_eval=[Tstar],\n",
    "                     method='DOP853',\n",
    "                     args = (A,m,w,gamma), \n",
    "                     option={\"rtol\": 1e-10,\"atol\":1e-10})\n",
    "    \n",
    "    G_Xstar_0 = sol.y[:,-1] - Xstar_0 #We take the solution at t=T\n",
    "    #The complete rhd of the Newton system\n",
    "    B = np.concatenate((G_Xstar_0, np.array([s(Tstar,Xstar_0, A,m,w,gamma)])))\n",
    "    \n",
    "    monodromy = np.eye(dim) #Initialisation of the monodromy matrix\n",
    "\n",
    "    X_by_iter, T_by_iter , Norm_B  = np.zeros((Max_iter+1,dim)),np.zeros((Max_iter+1)),np.zeros((Max_iter+1))\n",
    "    Norm_DeltaX = np.zeros((Max_iter+1))\n",
    "    X_by_iter[0,:] = Xstar_0\n",
    "    Norm_B[0] = np.linalg.norm(B,ord=2)\n",
    "    T_by_iter[0] = Tstar\n",
    "    Norm_DeltaX[0] = norm_delta_X = 1\n",
    "    #_____________Newton iteration loop____________________\n",
    "    while (norm_delta_X > epsilon  and k<Max_iter):\n",
    "        #- Solving numerically the initial value problem (dy/dt,dM/dt = (f(t,y),Gradf*M)\n",
    "        X_M = np.zeros((dim+dim**2)) \n",
    "\n",
    "        # Flatten the monodromy to a 1D array, as solve_ivp needs a vector\n",
    "        X_M[:dim] = Xstar_0\n",
    "        X_M[dim:] = monodromy.flatten(order='F')\n",
    "        #  Solve the system of ODEs\n",
    "        big_sol= solve_ivp(big_system,t_span=[0.0,Tstar], y0=X_M,\n",
    "                            t_eval=[Tstar],\n",
    "                            args=(f,Gradf,dim,A, m,w,gamma),\n",
    "                            method='DOP853',option={\"rtol\": 1e-10,\"atol\":1e-10})\n",
    "        X_M = big_sol.y[:,-1] #dimension d+d*d\n",
    "        Xstar_T = X_M[:dim] # The solution at Tstar\n",
    "        monodromy = X_M[dim:] #We take M(T)\n",
    "        monodromy = monodromy.reshape(dim,dim, order = \"F\") #Back to the square matrix format\n",
    "        #______Computation of DeltaX and DeltaT_____\n",
    "        d = ds_T(Xstar_0, Tstar)\n",
    "        c = GradS(Tstar,Xstar_0, A,m,w,gamma)\n",
    "        b = f(Tstar, Xstar_T, A,m,w,gamma)\n",
    "        #Concat the whole matrix\n",
    "        A11 = monodromy - np.eye(dim)\n",
    "        top = np.hstack((A11, b.reshape(-1,1)))  # Horizontal stacking of A11=M-I and A12=b\n",
    "        bottom = np.hstack((c.reshape(1,-1),np.array([[d]])))  # Horizontal stacking of A21=c and A22=d\n",
    "        Mat = np.vstack((top, bottom))  # Vertical stacking of the two rows\n",
    "        \n",
    "        #Right hand side concatenation\n",
    "        G_Xstar_0 = Xstar_T - Xstar_0\n",
    "        B = np.concatenate((G_Xstar_0, np.array([s(Tstar,Xstar_0, A,m,w,gamma)])))\n",
    "        \n",
    "        XX = solve(Mat,-B) #Contain Delta_X and Delta_T\n",
    "        # XX = np.linalg.lstsq(Mat, -B, rcond=None)[0]\n",
    "        Delta_X = XX[:dim]\n",
    "        Delta_T = XX[-1]\n",
    "        print(\"Iteration\", k, \"\\n\")\n",
    "        print(\"Norm Delta X = \", norm_delta_X,\"\\n\")\n",
    "\n",
    "        #Updating\n",
    "        Xstar_0 = Delta_X + Xstar_0\n",
    "        Tstar = Tstar + Delta_T\n",
    "        norm_delta_X = np.linalg.norm(Delta_X, ord=2)\n",
    " \n",
    "        k = k+1\n",
    "        X_by_iter[k,:] = Xstar_0\n",
    "        T_by_iter[k] = Tstar\n",
    "        Norm_DeltaX[k] = norm_delta_X\n",
    "        Norm_B[k] = np.linalg.norm(B, ord=2)\n",
    "    return k, T_by_iter, X_by_iter, Norm_B,Norm_DeltaX, monodromy\n"
   ]
  },
  {
   "cell_type": "code",
   "execution_count": 5,
   "metadata": {},
   "outputs": [],
   "source": [
    "Max_iter, epsilon = 100, 1e-10\n",
    "A = 1.1\n",
    "m = 2.5e-2\n",
    "gamma = 1e-3\n",
    "w = 1e-2\n",
    "params = (A,m,w,gamma)\n",
    "L0, D0 = -5.878379158004416, 0.985996818660573#-np.log(A-1)+0.001, 1.005 #-5. ,1#0.9805 # m+1\n",
    "X0 = np.array([L0,D0]) + 1e-2\n",
    "T0 = 2*np.pi/w + 100"
   ]
  },
  {
   "cell_type": "code",
   "execution_count": 6,
   "metadata": {},
   "outputs": [
    {
     "name": "stderr",
     "output_type": "stream",
     "text": [
      "c:\\Users\\abdou\\Desktop\\PhD\\code\\num_solutions\\.venv\\lib\\site-packages\\scipy\\integrate\\_ivp\\rk.py:505: UserWarning: The following arguments have no effect for a chosen solver: `option`.\n",
      "  super().__init__(fun, t0, y0, t_bound, max_step, rtol, atol,\n",
      "C:\\Users\\abdou\\AppData\\Local\\Temp\\ipykernel_8124\\3943485008.py:5: RuntimeWarning: overflow encountered in matmul\n",
      "  dM_dt = Jacf(t,Y_M[:dim],gamma) @ M  # Compute the matrix derivative\n",
      "C:\\Users\\abdou\\AppData\\Local\\Temp\\ipykernel_8124\\3943485008.py:5: RuntimeWarning: invalid value encountered in matmul\n",
      "  dM_dt = Jacf(t,Y_M[:dim],gamma) @ M  # Compute the matrix derivative\n"
     ]
    },
    {
     "name": "stdout",
     "output_type": "stream",
     "text": [
      "Iteration 0 \n",
      "\n",
      "Norm Delta X =  1 \n",
      "\n",
      "Iteration 1 \n",
      "\n",
      "Norm Delta X =  320.6813267753785 \n",
      "\n"
     ]
    },
    {
     "ename": "TypeError",
     "evalue": "list indices must be integers or slices, not tuple",
     "output_type": "error",
     "traceback": [
      "\u001b[1;31m---------------------------------------------------------------------------\u001b[0m",
      "\u001b[1;31mTypeError\u001b[0m                                 Traceback (most recent call last)",
      "Cell \u001b[1;32mIn[6], line 1\u001b[0m\n\u001b[1;32m----> 1\u001b[0m k,Tstar,XX,Norm_B,Norm_DX,M \u001b[38;5;241m=\u001b[39m \u001b[43mNewton_orbit2\u001b[49m\u001b[43m(\u001b[49m\u001b[43mf_modul\u001b[49m\u001b[43m,\u001b[49m\u001b[43ms_modul2\u001b[49m\u001b[43m,\u001b[49m\u001b[43m \u001b[49m\u001b[43mX0\u001b[49m\u001b[43m,\u001b[49m\u001b[43mT0\u001b[49m\u001b[43m,\u001b[49m\u001b[43mA\u001b[49m\u001b[43m,\u001b[49m\u001b[43mm\u001b[49m\u001b[43m,\u001b[49m\u001b[43mw\u001b[49m\u001b[43m,\u001b[49m\u001b[43mgamma\u001b[49m\u001b[43m,\u001b[49m\u001b[43m \u001b[49m\u001b[43mJacf_modul\u001b[49m\u001b[43m,\u001b[49m\u001b[43mGradS_modul2\u001b[49m\u001b[43m,\u001b[49m\u001b[43mds_T_modul\u001b[49m\u001b[43m,\u001b[49m\u001b[43m \u001b[49m\u001b[43mMax_iter\u001b[49m\u001b[43m,\u001b[49m\u001b[43m \u001b[49m\u001b[43mepsilon\u001b[49m\u001b[43m)\u001b[49m\n",
      "Cell \u001b[1;32mIn[4], line 36\u001b[0m, in \u001b[0;36mNewton_orbit2\u001b[1;34m(f, s, X_0, T_0, A, m, w, gamma, Gradf, GradS, ds_T, Max_iter, epsilon)\u001b[0m\n\u001b[0;32m     31\u001b[0m \u001b[38;5;66;03m#  Solve the system of ODEs\u001b[39;00m\n\u001b[0;32m     32\u001b[0m big_sol\u001b[38;5;241m=\u001b[39m solve_ivp(big_system,t_span\u001b[38;5;241m=\u001b[39m[\u001b[38;5;241m0.0\u001b[39m,Tstar], y0\u001b[38;5;241m=\u001b[39mX_M,\n\u001b[0;32m     33\u001b[0m                     t_eval\u001b[38;5;241m=\u001b[39m[Tstar],\n\u001b[0;32m     34\u001b[0m                     args\u001b[38;5;241m=\u001b[39m(f,Gradf,dim,A, m,w,gamma),\n\u001b[0;32m     35\u001b[0m                     method\u001b[38;5;241m=\u001b[39m\u001b[38;5;124m'\u001b[39m\u001b[38;5;124mDOP853\u001b[39m\u001b[38;5;124m'\u001b[39m,option\u001b[38;5;241m=\u001b[39m{\u001b[38;5;124m\"\u001b[39m\u001b[38;5;124mrtol\u001b[39m\u001b[38;5;124m\"\u001b[39m: \u001b[38;5;241m1e-10\u001b[39m,\u001b[38;5;124m\"\u001b[39m\u001b[38;5;124matol\u001b[39m\u001b[38;5;124m\"\u001b[39m:\u001b[38;5;241m1e-10\u001b[39m})\n\u001b[1;32m---> 36\u001b[0m X_M \u001b[38;5;241m=\u001b[39m \u001b[43mbig_sol\u001b[49m\u001b[38;5;241;43m.\u001b[39;49m\u001b[43my\u001b[49m\u001b[43m[\u001b[49m\u001b[43m:\u001b[49m\u001b[43m,\u001b[49m\u001b[38;5;241;43m-\u001b[39;49m\u001b[38;5;241;43m1\u001b[39;49m\u001b[43m]\u001b[49m \u001b[38;5;66;03m#dimension d+d*d\u001b[39;00m\n\u001b[0;32m     37\u001b[0m Xstar_T \u001b[38;5;241m=\u001b[39m X_M[:dim] \u001b[38;5;66;03m# The solution at Tstar\u001b[39;00m\n\u001b[0;32m     38\u001b[0m monodromy \u001b[38;5;241m=\u001b[39m X_M[dim:] \u001b[38;5;66;03m#We take M(T)\u001b[39;00m\n",
      "\u001b[1;31mTypeError\u001b[0m: list indices must be integers or slices, not tuple"
     ]
    }
   ],
   "source": [
    "k,Tstar,XX,Norm_B,Norm_DX,M = Newton_orbit2(f_modul,s_modul2, X0,T0,A,m,w,gamma, Jacf_modul,GradS_modul2,ds_T_modul, Max_iter, epsilon)"
   ]
  },
  {
   "cell_type": "markdown",
   "metadata": {},
   "source": [
    "## Ploting"
   ]
  },
  {
   "cell_type": "code",
   "execution_count": null,
   "metadata": {},
   "outputs": [],
   "source": [
    "print(Tstar[k])\n",
    "print(XX[k])\n",
    "k"
   ]
  },
  {
   "cell_type": "code",
   "execution_count": null,
   "metadata": {},
   "outputs": [],
   "source": [
    "fig, ax = plt.subplots(1,3,sharex='all')\n",
    "Tab = np.asarray(XX[:k])\n",
    "ax[0].plot(np.arange(k),Tab[:,1],'+-')\n",
    "ax[0].set_xlabel(\"Newton iterations\")\n",
    "ax[0].set_ylabel(\"D0\")\n",
    "\n",
    "ax[1].plot(np.arange(k),Tab[:,0],'+-')\n",
    "ax[1].set_xlabel(\"Newton iterations\")\n",
    "ax[1].set_ylabel(\"L0\")\n",
    "ax[2].semilogy(np.arange(k),Norm_DX[:k],'x-')\n",
    "ax[2].set_xlabel(\"Newton iterations\")\n",
    "ax[2].set_ylabel(\"norm_2(B)\")\n",
    "fig.set_size_inches((10,8))\n",
    "# fig.suptitle('(Fixed point by Newton iteration with T known: Modulated Laser :\\n m = %.1f L0 = log(A-1) = %.3f, D0 %.3f} )' % (m, L0,D0))\n",
    "# fig.suptitle('(Rescaled approach Laser model :\\n I0 = %.3f, D0 %.3f} )' % (I0,D0))\n",
    "\n",
    "fig.subplots_adjust(left=0.09, bottom=0.51, right=0.95, top=0.92, hspace=0.55, wspace=0.55)\n",
    "# plt.savefig('./Results/rescaled_approach.png')"
   ]
  },
  {
   "cell_type": "markdown",
   "metadata": {},
   "source": [
    "## Solving the ODE with the found fixed point "
   ]
  },
  {
   "cell_type": "code",
   "execution_count": null,
   "metadata": {},
   "outputs": [],
   "source": [
    "X0 = np.array(XX[k])\n",
    "print(X0)\n",
    "# X0 = np.array([-2.30,  1.02])\n",
    "# T = Tstar_D[k_D-1]\n",
    "sol = solve_ivp(fun=f_modul,t_span=[0.0, 5*T0],\n",
    "                t_eval=np.linspace(0.0,5*T0, 10000), \n",
    "                y0=X0, method='RK45', \n",
    "                args = params,vectorized=False,\n",
    "                **{\"rtol\": 1e-12,\"atol\":1e-14}\n",
    "                )"
   ]
  },
  {
   "cell_type": "code",
   "execution_count": null,
   "metadata": {},
   "outputs": [],
   "source": [
    "X = sol.y\n",
    "times_intervall = sol.t\n",
    "# plt.plot(times_intervall,X[0,:])\n",
    "# plt.xlim([0,1100])\n",
    "plt.plot(times_intervall,X[0,:])\n",
    "plt.grid()\n",
    "plt.xlabel(\"time\")\n",
    "plt.ylabel(\"L0\")\n",
    "plt.show()\n",
    "plt.plot(times_intervall,X[1,:])\n",
    "plt.ylabel(\"D0\")\n",
    "plt.show()\n",
    "plt.plot(X[0,:], X[1,:])\n",
    "plt.grid()\n",
    "\n",
    "X.shape"
   ]
  }
 ],
 "metadata": {
  "kernelspec": {
   "display_name": ".venv",
   "language": "python",
   "name": "python3"
  },
  "language_info": {
   "codemirror_mode": {
    "name": "ipython",
    "version": 3
   },
   "file_extension": ".py",
   "mimetype": "text/x-python",
   "name": "python",
   "nbconvert_exporter": "python",
   "pygments_lexer": "ipython3",
   "version": "3.9.13"
  }
 },
 "nbformat": 4,
 "nbformat_minor": 2
}
