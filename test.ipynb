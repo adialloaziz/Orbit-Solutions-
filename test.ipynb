{
 "cells": [
  {
   "cell_type": "code",
   "execution_count": null,
   "metadata": {},
   "outputs": [],
   "source": [
    "import numpy as np\n",
    "from scipy.linalg import solve, schur\n",
    "from scipy.integrate import solve_ivp\n",
    "from scipy.sparse.linalg import eigs\n",
    "from scipy.sparse.linalg import LinearOperator\n",
    "from utility import orbit, BrusselatorModel\n",
    "import sys\n",
    "from scipy.sparse.linalg import eigs\n"
   ]
  },
  {
   "cell_type": "code",
   "execution_count": null,
   "metadata": {},
   "outputs": [],
   "source": [
    "if __name__ == \"__main__\":\n",
    "    param_file = \"./brusselator_params_4.in\"  # JSON file containing model parameters\n",
    "    model = BrusselatorModel(param_file)\n",
    "    print(\"Loaded parameters:\", model.L)\n",
    "\n",
    "f = model.dydt\n",
    "Jacf = model.brusselator_jacobian\n",
    "\n",
    "\n",
    "z_L = model.z_L\n",
    "N = model.N\n",
    "A, B = model.A, model.B\n",
    "z = np.linspace(0, z_L, N)\n",
    "perturb = np.sin(np.pi*(z/z_L))\n",
    "\n",
    "X0 = A + 0.01*perturb\n",
    "Y0 = B/A + 0.01*perturb\n",
    "\n",
    "y0 = np.concatenate([X0[1:-1],Y0[1:-1]])\n",
    "\n",
    "Max_iter = 100\n",
    "epsilon = 1e-13\n",
    "T_0 = model.T_ini\n",
    "\n",
    "t_eval = np.linspace(0.0,20*T_0, 1000)\n",
    "\n",
    "sol = solve_ivp(fun=f,t_span=[0.0, 20*T_0],\n",
    "                t_eval=t_eval, \n",
    "                y0=y0, method='RK45', \n",
    "                **{\"rtol\": 1e-7,\"atol\":1e-9}\n",
    "                )\n",
    "\n",
    "y_T = sol.y[:,-1]\n"
   ]
  },
  {
   "cell_type": "markdown",
   "metadata": {},
   "source": [
    "## Monodromy computation from the converged Newton method"
   ]
  },
  {
   "cell_type": "code",
   "execution_count": null,
   "metadata": {},
   "outputs": [],
   "source": [
    "orbit_finder = orbit(f,y_T,T_0, Jacf,2, Max_iter, epsilon)\n",
    "\n",
    "k, T_by_iter, y_by_iter, Norm_B, Norm_Deltay, monodromy_0, monodromy = orbit_finder.Newton_orbit(f,y_T,T_0, Jacf,2, Max_iter, epsilon)\n"
   ]
  },
  {
   "cell_type": "code",
   "execution_count": null,
   "metadata": {},
   "outputs": [],
   "source": [
    "# phi, M = orbit_finder.integ_monodromy(y_T, T_0)"
   ]
  },
  {
   "cell_type": "code",
   "execution_count": null,
   "metadata": {},
   "outputs": [],
   "source": [
    "np.iscomplexobj(M)"
   ]
  },
  {
   "cell_type": "code",
   "execution_count": null,
   "metadata": {},
   "outputs": [],
   "source": [
    "T = T_by_iter[k-1]\n",
    "y = np.array(y_by_iter[k-1])\n",
    "rho = 1-0.25\n",
    "eig, eigvec = np.linalg.eig(monodromy)\n",
    "mask = np.abs(eig) - rho > 0.0\n",
    "print(f\"Number of Floquet multipliers outside the circle with radius {rho}\\n\",len(eig[mask]))\n",
    "\n",
    "print(\"Spectral radius of the Monodromy matrix:\\n\",np.max(np.abs(eig)))"
   ]
  },
  {
   "cell_type": "markdown",
   "metadata": {},
   "source": [
    "### Computing the dominant subspace using the Subsapce Iteration with projection algorithm\n",
    "We initialize the subspace Vp with a member of the eigenvectors outside the unit cercle computed directly after the Newton method "
   ]
  },
  {
   "cell_type": "code",
   "execution_count": null,
   "metadata": {},
   "outputs": [],
   "source": [
    "p0, pe = 4,3\n",
    "subspace_iter = 10\n",
    "\n",
    "Ve_0 = np.real(eigvec[:p0+pe].T) # Taking the real part bc we want a real orthonormal basis of the dominant subspace of M\n",
    "Ve, _ = np.linalg.qr(Ve_0)# Orthonormalization of Ve_0\n"
   ]
  },
  {
   "cell_type": "code",
   "execution_count": null,
   "metadata": {},
   "outputs": [],
   "source": [
    "v0 = np.real(eigvec[0])"
   ]
  },
  {
   "cell_type": "code",
   "execution_count": null,
   "metadata": {},
   "outputs": [],
   "source": [
    "eigen , Vp = orbit_finder.base_Vp(v0, y, T, f, Jacf, 6, epsilon)"
   ]
  },
  {
   "cell_type": "code",
   "execution_count": null,
   "metadata": {},
   "outputs": [],
   "source": [
    "Re_sorted,Ye_sorted, Ve, We = orbit_finder.subsp_iter_projec(Ve, y, T, f, Jacf, p0, pe,subspace_iter, tol=1e-9)\n",
    "eig_Re,_ = np.linalg.eig(Re_sorted)\n",
    "mask1 = np.abs(eig_Re) - rho >  0.0\n",
    "# mask = np.abs(eig) - rho > 0.0"
   ]
  },
  {
   "cell_type": "code",
   "execution_count": null,
   "metadata": {},
   "outputs": [],
   "source": [
    "# mask1 = np.abs(eigen) - rho >  0.0\n",
    "\n",
    "max_eigenvalues = np.sort(eig[mask])[::-1]    \n",
    "print(\"Eigenvalues from subspace iteration \\n\",(eig_Re[mask1]))\n",
    "print(\"The first p0 eigenvalues of the converged monodromy matrix \\n\", max_eigenvalues)\n",
    "# Ve, _ = np.linalg.qr(Ve, mode='complete')\n",
    "# np.dot(Ve.H, Ve)\n",
    "#  - np.eye(len(y0))\n",
    "# Ve = np.matrix(Ve)\n",
    "np.allclose(np.eye(p0+pe),np.dot(Ve.T, Ve))\n",
    "\n",
    "# np.iscomplexobj(Ve)"
   ]
  },
  {
   "cell_type": "code",
   "execution_count": null,
   "metadata": {},
   "outputs": [],
   "source": [
    "mask1"
   ]
  },
  {
   "cell_type": "code",
   "execution_count": null,
   "metadata": {},
   "outputs": [],
   "source": [
    "import numpy as np\n",
    "rng = np.random.default_rng()\n",
    "a = rng.normal(size=(9, 6))\n",
    "Q, R = np.linalg.qr(a)\n",
    "np.dot(Q.T, Q)  # a does equal QR\n",
    "# R2 = np.linalg.qr(a, mode='r')\n",
    "# np.allclose(R, R2)  # mode='r' returns the same R as mode='full'\n",
    "# a = np.random.normal(size=(3, 2, 2)) # Stack of 2 x 2 matrices as input\n",
    "# Q, R = np.linalg.qr(a)\n",
    "# Q.shape\n",
    "# R.shape\n",
    "# np.allclose(a, np.matmul(Q, R))\n",
    "(Q.T@Q).shape"
   ]
  },
  {
   "cell_type": "code",
   "execution_count": null,
   "metadata": {},
   "outputs": [],
   "source": [
    "eigenVp, Vp = orbit_finder.base_Vp(v0=v0, y0=y0,T=T, f=f,Jacf=Jacf,p=p,epsilon=1e-6)\n"
   ]
  },
  {
   "cell_type": "code",
   "execution_count": null,
   "metadata": {},
   "outputs": [],
   "source": [
    "eig[mask]"
   ]
  },
  {
   "cell_type": "code",
   "execution_count": null,
   "metadata": {},
   "outputs": [],
   "source": [
    "np.abs(eigenVp)"
   ]
  },
  {
   "cell_type": "code",
   "execution_count": null,
   "metadata": {},
   "outputs": [],
   "source": [
    "np.linalg.norm(eig[mask] - eigenVp)"
   ]
  }
 ],
 "metadata": {
  "kernelspec": {
   "display_name": ".venv",
   "language": "python",
   "name": "python3"
  },
  "language_info": {
   "codemirror_mode": {
    "name": "ipython",
    "version": 3
   },
   "file_extension": ".py",
   "mimetype": "text/x-python",
   "name": "python",
   "nbconvert_exporter": "python",
   "pygments_lexer": "ipython3",
   "version": "3.12.10"
  }
 },
 "nbformat": 4,
 "nbformat_minor": 2
}
