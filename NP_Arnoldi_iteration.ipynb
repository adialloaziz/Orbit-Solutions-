{
 "cells": [
  {
   "cell_type": "code",
   "execution_count": null,
   "metadata": {},
   "outputs": [],
   "source": [
    "import numpy as np\n",
    "import matplotlib.pyplot as plt\n",
    "import scipy as sp\n",
    "from scipy.integrate import solve_ivp\n",
    "from scipy.linalg import solve,schur\n",
    "from utility import orbit, BrusselatorModel, optim_BrusselatorModel, call_method\n",
    "import sys\n",
    "from scipy.sparse.linalg import LinearOperator\n",
    "from scipy.sparse.linalg import eigs\n",
    "from scipy.interpolate import interp1d\n",
    "\n",
    "from matplotlib.backends.backend_pdf import PdfPages\n",
    "import time\n",
    "from joblib import Parallel, delayed\n",
    "import imageio\n",
    "import cProfile\n",
    "import pandas as pd"
   ]
  },
  {
   "cell_type": "code",
   "execution_count": null,
   "metadata": {},
   "outputs": [],
   "source": [
    "if __name__ == \"__main__\":\n",
    "    param_file = \"./brusselator_params_2.in\"  # JSON file containing model parameters\n",
    "    model = BrusselatorModel(param_file)\n",
    "    model_optim = optim_BrusselatorModel(param_file)\n",
    "    print(\"Loaded parameters:\", model_optim.n_z)\n",
    "\n",
    "f = model.dydt\n",
    "Jacf = model.brusselator_jacobian\n",
    "# Parameters\n",
    "z_L = model.z_L\n",
    "# N = model.N\n",
    "A, B = model.A, model.B\n",
    "Max_iter = 7\n",
    "epsilon = 1e-9 \n",
    "T_0 = model.T_ini\n",
    "# t_eval = np.linspace(0.0,20*model.T_ini, 1000)\n",
    "# def solve_model(N, method):\n",
    "#     model.N = N\n",
    "#     z = np.linspace(0, z_L, N)\n",
    "#     perturb = np.sin(np.pi*(z/z_L))\n",
    "\n",
    "#     X0 = A + 0.01*perturb\n",
    "#     Y0 = B/A + 0.01*perturb\n",
    "\n",
    "#     y0 = np.concatenate([X0[1:-1],Y0[1:-1]])\n",
    "#     # print('here')\n",
    "#     start = time.time()\n",
    "#     sol = solve_ivp(fun=f,t_span=[0.0, 10*T_0],\n",
    "#                     t_eval=[0*10*model.T_ini], \n",
    "#                     dense_output = True,\n",
    "#                     y0=y0, method= method, \n",
    "#                     **{\"rtol\": 1e-7,\"atol\":1e-9},\n",
    "#                     )\n",
    "#     end = time.time()\n",
    "#     # y_T = sol.y[:,-1]\n",
    "#     # y_T.shape\n",
    "#     return sol, end - start\n",
    "\n"
   ]
  },
  {
   "cell_type": "code",
   "execution_count": null,
   "metadata": {},
   "outputs": [],
   "source": [
    "# sol, t_solve = solve_model(30, \"RK45\")\n",
    "# y0 = sol.y[:,-1]\n",
    "# orbit_finder = orbit(f,y0,model.T_ini, Jacf,2, Max_iter, epsilon)"
   ]
  },
  {
   "cell_type": "markdown",
   "metadata": {},
   "source": [
    "### Time execution check "
   ]
  },
  {
   "cell_type": "markdown",
   "metadata": {},
   "source": [
    "#### Newton"
   ]
  },
  {
   "cell_type": "code",
   "execution_count": null,
   "metadata": {},
   "outputs": [],
   "source": [
    "\n",
    "model_optim.Lap"
   ]
  },
  {
   "cell_type": "code",
   "execution_count": null,
   "metadata": {},
   "outputs": [],
   "source": [
    "# newton_time = []\n",
    "# for N in np.arange(30,31,1):\n",
    "model_optim.n_z = 120\n",
    "model_optim.Lap = model_optim.Lap_mat()\n",
    "f = model_optim.dydt\n",
    "Jacf = model_optim.brusselator_jacobian\n",
    "\n",
    "    \n",
    "X0 = model_optim.A + 0.1*np.sin(np.pi*(np.linspace(0, model_optim.z_L, model_optim.n_z)/model_optim.z_L))\n",
    "Y0 = model_optim.B/model_optim.A + 0.1*np.sin(np.pi*(np.linspace(0, model_optim.z_L, model_optim.n_z)/model_optim.z_L))\n",
    "y0 = np.concatenate([X0[1:-1],Y0[1:-1]])\n",
    "sol = solve_ivp(fun=f,t_span=[0.0, 16*model_optim.T_ini],\n",
    "           t_eval=[16*model_optim.T_ini], \n",
    "            y0=y0, method='RK45', \n",
    "            **{\"rtol\": 1e-10,\"atol\":1e-12}\n",
    "            )\n",
    "y_T = sol.y[:,-1]\n",
    "print(len(y0))\n",
    "orbit_finder = orbit(f,y_T,model_optim.T_ini, Jacf,2, Max_iter, epsilon)\n",
    "# start = time.time()\n",
    "# profiler = cProfile.Profile()\n",
    "# profiler.enable()\n",
    "# k, T_by_iter, y_by_iter, Norm_B, Norm_Deltay = orbit_finder.Newton_orbit(y_T,model_optim.T_ini, Max_iter, epsilon)\n",
    "# end = time.time()\n",
    "# # newton_time.append(end - start)\n",
    "# profiler.disable()\n",
    "# profiler.print_stats(sort='time')\n",
    "# T = T_by_iter[k-1]\n",
    "# y = np.array(y_by_iter[k-1])\n",
    "# print('T = ', T)\n",
    "%prun -D Newton_optim_nz_120.prof orbit_finder.Newton_orbit(y_T,model_optim.T_ini, Max_iter, epsilon)"
   ]
  },
  {
   "cell_type": "code",
   "execution_count": null,
   "metadata": {},
   "outputs": [],
   "source": [
    "model.n_z = 120\n",
    "f = model.dydt\n",
    "Jacf = model.brusselator_jacobian\n",
    "\n",
    "orbit_finder = orbit(f,y_T,model.T_ini, Jacf,2, Max_iter, epsilon)\n",
    "# start = time.time()\n",
    "# k, T_by_iter, y_by_iter, Norm_B, Norm_Deltay = orbit_finder.Newton_orbit(y_T,model.T_ini, Max_iter, epsilon)\n",
    "# end = time.time()\n",
    "# # newton_time.append(end - start)\n",
    "# profiler.disable()\n",
    "# profiler.print_stats(sort='time')\n",
    "# T = T_by_iter[k-1]\n",
    "# y = np.array(y_by_iter[k-1])\n",
    "# print('T = ', T)\n",
    "%prun -D Newton_nz_120.prof orbit_finder.Newton_orbit(y_T,model_optim.T_ini, Max_iter, epsilon)\n"
   ]
  },
  {
   "cell_type": "code",
   "execution_count": null,
   "metadata": {},
   "outputs": [],
   "source": [
    "model.n_z = 120\n",
    "f = model.dydt\n",
    "Jacf = model.brusselator_jacobian\n",
    "\n",
    "orbit_finder = orbit(f,y_T,model.T_ini, Jacf,2, Max_iter, epsilon)\n",
    "# start = time.time()\n",
    "# k, T_by_iter, y_by_iter, Norm_B, Norm_Deltay = orbit_finder.Newton_orbit(y_T,model.T_ini, Max_iter, epsilon)\n",
    "# end = time.time()\n",
    "# # newton_time.append(end - start)\n",
    "# profiler.disable()\n",
    "# profiler.print_stats(sort='time')\n",
    "# T = T_by_iter[k-1]\n",
    "# y = np.array(y_by_iter[k-1])\n",
    "# print('T = ', T)\n",
    "%prun -D Newton_nz_120.prof orbit_finder.Newton_orbit(y_T,model_optim.T_ini, Max_iter, epsilon)"
   ]
  },
  {
   "cell_type": "markdown",
   "metadata": {},
   "source": [
    "#### Newton-Picard with Simple subspace iteration"
   ]
  },
  {
   "cell_type": "code",
   "execution_count": null,
   "metadata": {},
   "outputs": [],
   "source": [
    "p0, pe = 5 ,4\n",
    "subspace_iter = 5\n",
    "rho = 0.5\n",
    "model.n_z = 32\n",
    "# model.Lap = model.Lap_mat() #Upgrating the jacobian\n",
    "f = model.dydt\n",
    "Jacf = model.brusselator_jacobian\n",
    "#Initialization\n",
    "X0 = model.A + 0.1*np.sin(np.pi*(np.linspace(0, model.z_L, model.n_z)/model.z_L))\n",
    "Y0 = model.B/model.A + 0.1*np.sin(np.pi*(np.linspace(0, model.z_L, model.n_z)/model.z_L))\n",
    "y0 = np.concatenate([X0[1:-1],Y0[1:-1]])\n",
    "#We integrate sufficiently the equation to find a good starting point\n",
    "phi_t = solve_ivp(fun=f,t_span=[0.0, 16*model.T_ini],\n",
    "            t_eval=[16*model.T_ini],\n",
    "            dense_output=True,\n",
    "            y0=y0, method='RK45', \n",
    "            **{\"rtol\": 1e-10,\"atol\":1e-12}\n",
    "            )\n",
    "\n",
    "y_T = phi_t.y[:,-1] #Using phi(y0,T0) as a starting point\n",
    "orbit_finder = orbit(f,y_T,model.T_ini, Jacf,2, Max_iter, epsilon)\n",
    "print('here')\n",
    "V_0 = orbit_finder.subspace_iter(y_T,Ve_ini = np.eye(len(y_T))[:,:p0+pe],\n",
    "                                 T =  model.T_ini,\n",
    "                                 phi_t = phi_t,\n",
    "                                 p0 = p0,\n",
    "                                 pe = pe,\n",
    "                                 max_iter = subspace_iter\n",
    "                                 )\n",
    "\n",
    "%prun -D NP_project_nz_32.prof orbit_finder.Newton_Picard_sub_proj(y_T,model.T_ini, Max_iter, epsilon,subspace_iter,V_0,p0,pe,rho)\n",
    "\n",
    "model_optim.n_z = 32\n",
    "model_optim.Lap = model_optim.Lap_mat()\n",
    "f = model_optim.dydt\n",
    "Jacf = model_optim.brusselator_jacobian\n",
    "orbit_finder = orbit(f,y_T,model_optim.T_ini, Jacf,2, Max_iter, epsilon)\n",
    "%prun -D NP_project_optim_nz_32.prof orbit_finder.Newton_Picard_sub_proj(y_T,model_optim.T_ini, Max_iter, epsilon,subspace_iter,V_0,p0,pe,rho)"
   ]
  },
  {
   "cell_type": "code",
   "execution_count": null,
   "metadata": {},
   "outputs": [],
   "source": [
    "model.n_z = 120\n",
    "# model.Lap = model.Lap_mat() #Upgrating the jacobian\n",
    "f = model.dydt\n",
    "Jacf = model.brusselator_jacobian\n",
    "#Initialization\n",
    "X0 = model.A + 0.1*np.sin(np.pi*(np.linspace(0, model.z_L, model.n_z)/model.z_L))\n",
    "Y0 = model.B/model.A + 0.1*np.sin(np.pi*(np.linspace(0, model.z_L, model.n_z)/model.z_L))\n",
    "y0 = np.concatenate([X0[1:-1],Y0[1:-1]])\n",
    "#We integrate sufficiently the equation to find a good starting point\n",
    "phi_t = solve_ivp(fun=f,t_span=[0.0, 16*model.T_ini],\n",
    "            t_eval=[16*model.T_ini],\n",
    "            dense_output=True,\n",
    "            y0=y0, method='RK45', \n",
    "            **{\"rtol\": 1e-10,\"atol\":1e-12}\n",
    "            )\n",
    "\n",
    "y_T = phi_t.y[:,-1] #Using phi(y0,T0) as a starting point\n",
    "orbit_finder = orbit(f,y_T,model.T_ini, Jacf,2, Max_iter, epsilon)\n",
    "print('here')\n",
    "V_0 = orbit_finder.subspace_iter(y_T,Ve_ini = np.eye(len(y_T))[:,:p0+pe],\n",
    "                                 T =  model.T_ini,\n",
    "                                 phi_t = phi_t,\n",
    "                                 p0 = p0,\n",
    "                                 pe = pe,\n",
    "                                 max_iter = subspace_iter\n",
    "                                 )\n",
    "\n",
    "%prun -D NP_project_nz_120.prof orbit_finder.Newton_Picard_sub_proj(y_T,model.T_ini, Max_iter, epsilon,subspace_iter,V_0,p0,pe,rho)\n",
    "\n",
    "model_optim.n_z = 120\n",
    "model_optim.Lap = model_optim.Lap_mat()\n",
    "f = model_optim.dydt\n",
    "Jacf = model_optim.brusselator_jacobian\n",
    "orbit_finder = orbit(f,y_T,model_optim.T_ini, Jacf,2, Max_iter, epsilon)\n",
    "%prun -D NP_project_optim_nz_120.prof orbit_finder.Newton_Picard_sub_proj(y_T,model_optim.T_ini, Max_iter, epsilon,subspace_iter,V_0,p0,pe,rho)"
   ]
  },
  {
   "cell_type": "code",
   "execution_count": null,
   "metadata": {},
   "outputs": [],
   "source": [
    "model.n_z = 200\n",
    "# model.Lap = model.Lap_mat() #Upgrating the jacobian\n",
    "f = model.dydt\n",
    "Jacf = model.brusselator_jacobian\n",
    "#Initialization\n",
    "X0 = model.A + 0.1*np.sin(np.pi*(np.linspace(0, model.z_L, model.n_z)/model.z_L))\n",
    "Y0 = model.B/model.A + 0.1*np.sin(np.pi*(np.linspace(0, model.z_L, model.n_z)/model.z_L))\n",
    "y0 = np.concatenate([X0[1:-1],Y0[1:-1]])\n",
    "#We integrate sufficiently the equation to find a good starting point\n",
    "phi_t = solve_ivp(fun=f,t_span=[0.0, 16*model.T_ini],\n",
    "            t_eval=[16*model.T_ini],\n",
    "            dense_output=True,\n",
    "            y0=y0, method='RK45', \n",
    "            **{\"rtol\": 1e-10,\"atol\":1e-12}\n",
    "            )\n",
    "\n",
    "y_T = phi_t.y[:,-1] #Using phi(y0,T0) as a starting point\n",
    "orbit_finder = orbit(f,y_T,model.T_ini, Jacf,2, Max_iter, epsilon)\n",
    "print('here')\n",
    "V_0 = orbit_finder.subspace_iter(y_T,Ve_ini = np.eye(len(y_T))[:,:p0+pe],\n",
    "                                 T =  model.T_ini,\n",
    "                                 phi_t = phi_t,\n",
    "                                 p0 = p0,\n",
    "                                 pe = pe,\n",
    "                                 max_iter = subspace_iter\n",
    "                                 )\n",
    "\n",
    "%prun -D NP_project_nz_200.prof orbit_finder.Newton_Picard_sub_proj(y_T,model.T_ini, Max_iter, epsilon,subspace_iter,V_0,p0,pe,rho)\n",
    "\n",
    "model_optim.n_z = 200\n",
    "model_optim.Lap = model_optim.Lap_mat()\n",
    "f = model_optim.dydt\n",
    "Jacf = model_optim.brusselator_jacobian\n",
    "orbit_finder = orbit(f,y_T,model_optim.T_ini, Jacf,2, Max_iter, epsilon)\n",
    "%prun -D NP_project_optim_nz_200.prof orbit_finder.Newton_Picard_sub_proj(y_T,model_optim.T_ini, Max_iter, epsilon,subspace_iter,V_0,p0,pe,rho)"
   ]
  },
  {
   "cell_type": "code",
   "execution_count": null,
   "metadata": {},
   "outputs": [],
   "source": [
    "%%time\n",
    "M@np.ones(N)"
   ]
  },
  {
   "cell_type": "code",
   "execution_count": null,
   "metadata": {},
   "outputs": [],
   "source": [
    "%%time\n",
    "A@np.ones(N)"
   ]
  },
  {
   "cell_type": "code",
   "execution_count": null,
   "metadata": {},
   "outputs": [],
   "source": [
    "p0, pe = 5 ,4\n",
    "subspace_iter = 5\n",
    "rho = 0.5\n",
    "# orbit_method = \"Newton_Picard_simple\"\n",
    "def run(model, n_z,p0,pe,rho,Max_iter, subspace_iter,orbit_method):\n",
    "    # df = pd.DataFrame()\n",
    "    model.n_z = n_z\n",
    "    model.Lap = model.Lap_mat() #Upgrating the jacobian\n",
    "    f = model.dydt\n",
    "    Jacf = model.brusselator_jacobian\n",
    "    #Initialization\n",
    "    X0 = model.A + 0.1*np.sin(np.pi*(np.linspace(0, model.z_L, model.n_z)/model.z_L))\n",
    "    Y0 = model.B/model.A + 0.1*np.sin(np.pi*(np.linspace(0, model.z_L, model.n_z)/model.z_L))\n",
    "    y0 = np.concatenate([X0[1:-1],Y0[1:-1]])\n",
    "    #We integrate sufficiently the equation to find a good starting point\n",
    "    phi_t = solve_ivp(fun=f,t_span=[0.0, 16*model.T_ini],\n",
    "                t_eval=[16*model.T_ini],\n",
    "                dense_output=True,\n",
    "                y0=y0, method='RK45', \n",
    "                **{\"rtol\": 1e-10,\"atol\":1e-12}\n",
    "                )\n",
    "    \n",
    "    y_T = phi_t.y[:,-1] #Using phi(y0,T0) as a starting point\n",
    "    orbit_finder = orbit(f,y_T,model.T_ini, Jacf,2, Max_iter, epsilon)\n",
    "    #Using the real part of the eigenvectors fo M(y_T,T0)\n",
    "    #May be expensive in large dimension \n",
    "    # We may leverage in the fact that only the action of M is required while computing eigenvector rather than computing expicitely M\n",
    "    # _,M = orbit_finder.integ_monodromy(y_T,model.T_ini)\n",
    "    # _, eigvec = np.linalg.eig(M)\n",
    "    # V_0 = np.real(eigvec[:,:p0+pe])\n",
    "    # V_0,_ = np.linalg.qr(V_0)\n",
    "    # _,V_0 = orbit_finder.base_Vp(np.eye(len(y_T))[0], y_T, model.T_ini, f, Jacf, p0+pe, epsilon)\n",
    "    \n",
    "    V_0 = orbit_finder.subspace_iter(y_T,Ve_ini = np.eye(len(y_T))[:,:p0+pe],\n",
    "                                 T =  model.T_ini,\n",
    "                                 phi_t = phi_t,\n",
    "                                 p0 = p0,\n",
    "                                 pe = pe,\n",
    "                                 max_iter = subspace_iter\n",
    "                                 )\n",
    "    args = {\n",
    "    \"y0\": y_T,\n",
    "    \"T_0\": model.T_ini,\n",
    "    \"Max_iter\": Max_iter,\n",
    "    \"epsilon\": epsilon,\n",
    "    \"subsp_iter\": subspace_iter,\n",
    "    \"Ve_0\": V_0,\n",
    "    \"p0\": p0,\n",
    "    \"pe\": pe,\n",
    "    \"rho\": rho,\n",
    "    \"phase_cond\": 2}\n",
    "    method_to_call = getattr(orbit_finder, orbit_method)\n",
    "\n",
    "    start = time.time()\n",
    "    k, T_by_iter, y_by_iter, Norm_B, Norm_Deltay = call_method(method_to_call, **args)\n",
    "                         \n",
    "    end = time.time()\n",
    "    # p0 = p0+2 #We may vary p accordingly to N rather than fixing it\n",
    "    results = dict(\n",
    "        orbit_method = orbit_method,\n",
    "        nz = n_z,\n",
    "        p0 = p0,\n",
    "        pe=pe,\n",
    "        sub_sp_iter = subspace_iter,\n",
    "        rho = rho,\n",
    "        n_iter = k,\n",
    "        precison = f\"{epsilon:.1e}\",\n",
    "        n_ivp_solves = (subspace_iter*(p0+pe) + 1)*k,\n",
    "        comput_time = float(f\"{end-start:.5f}\"),\n",
    "        T_star = float(f\"{T_by_iter[k-1]:.5f}\"),\n",
    "        T_iter = [T_by_iter],\n",
    "    )\n",
    "    # res = pd.DataFrame(results, index=[0])\n",
    "    # df = pd.concat([df,res])\n",
    "    # df.reset_index(drop=True)\n",
    "    return results"
   ]
  },
  {
   "cell_type": "code",
   "execution_count": null,
   "metadata": {},
   "outputs": [],
   "source": [
    "k=6\n",
    "2 ** np.arange(4,4+k)"
   ]
  },
  {
   "cell_type": "code",
   "execution_count": null,
   "metadata": {},
   "outputs": [],
   "source": [
    "n_z = 6\n",
    "Max_iter = 20\n",
    "orbit_method = \"Newton_Picard_sub_proj\"\n",
    "# cProfile.run('run(model,N,p0,pe, rho,Max_iter,subspace_iter, orbit_method)')\n",
    "profiler = cProfile.Profile()\n",
    "profiler.enable()\n",
    "run(model_optim,n_z,p0,pe, rho,Max_iter,subspace_iter, orbit_method)\n",
    "profiler.disable()\n",
    "profiler.print_stats(sort='time')"
   ]
  },
  {
   "cell_type": "code",
   "execution_count": null,
   "metadata": {},
   "outputs": [],
   "source": [
    "orbit_method = \"Newton_Picard_simple\"\n",
    "run(model,30,p0,pe, rho,Max_iter, subspace_iter, orbit_method)"
   ]
  },
  {
   "cell_type": "code",
   "execution_count": null,
   "metadata": {},
   "outputs": [],
   "source": [
    "%%time\n",
    "res1 = Parallel(n_jobs=2, prefer='processes',\n",
    "               timeout=1000)(delayed(run)(model,N,p0,pe, rho,Max_iter, subspace_iter, orbit_method) for N in [20,30])"
   ]
  },
  {
   "cell_type": "code",
   "execution_count": null,
   "metadata": {},
   "outputs": [],
   "source": [
    "pd.DataFrame(res1)"
   ]
  },
  {
   "cell_type": "code",
   "execution_count": null,
   "metadata": {},
   "outputs": [],
   "source": [
    "from pathlib import Path\n",
    "from datetime import datetime\n",
    "\n",
    "BASE_PATH = Path().parent.resolve()\n",
    "today_analysis = datetime.today().strftime('%Y-%m-%d_%H')\n",
    "output_root_dir = BASE_PATH / \"Results/\"\n",
    " \n",
    "Dir_path = Path(output_root_dir/today_analysis)\n",
    "Dir_path.mkdir(parents=True, exist_ok=True)"
   ]
  },
  {
   "cell_type": "code",
   "execution_count": null,
   "metadata": {},
   "outputs": [],
   "source": [
    "k=2\n",
    "BASE_PATH/\"brusselator_params_%i.in\" %k"
   ]
  },
  {
   "cell_type": "code",
   "execution_count": null,
   "metadata": {},
   "outputs": [],
   "source": [
    "file_path = f\"{Dir_path/orbit_method}.txt\"\n",
    "file_path\n",
    "#export DataFrame to text file\n",
    "with open(file_path, 'w') as f:\n",
    "    df_string = df.to_string()\n",
    "    f.write(df_string)"
   ]
  },
  {
   "cell_type": "code",
   "execution_count": null,
   "metadata": {},
   "outputs": [],
   "source": [
    "NP_simple_time = []\n",
    "NP_simple_time.append(run(10,p0,pe))"
   ]
  },
  {
   "cell_type": "code",
   "execution_count": null,
   "metadata": {},
   "outputs": [],
   "source": [
    "NP_simple_time = NP_simple_time + res1"
   ]
  },
  {
   "cell_type": "markdown",
   "metadata": {},
   "source": [
    "#### Newton-Picard with subspace iteration with projection"
   ]
  },
  {
   "cell_type": "code",
   "execution_count": null,
   "metadata": {},
   "outputs": [],
   "source": [
    "p0 = 5 \n",
    "epsilon = 1e-9\n",
    "Max_iter = 50\n",
    "def run2(N,p0,pe,rho=0.2, subspace_iter = 4):\n",
    "    model.N = N\n",
    "    f = model.dydt\n",
    "    Jacf = model.brusselator_jacobian\n",
    "    print(\"P0 = \", p0)\n",
    "    X0 = model.A + 0.1*np.sin(np.pi*(np.linspace(0, model.z_L, model.N)/model.z_L))\n",
    "    Y0 = model.B/model.A + 0.1*np.sin(np.pi*(np.linspace(0, model.z_L, model.N)/model.z_L))\n",
    "    y0 = np.concatenate([X0[1:-1],Y0[1:-1]])\n",
    "    sol = solve_ivp(fun=f,t_span=[0.0, 20*model.T_ini],\n",
    "                t_eval=[20*model.T_ini], \n",
    "                y0=y0, method='RK45', \n",
    "                **{\"rtol\": 1e-7,\"atol\":1e-9}\n",
    "                )\n",
    "    y_T = sol.y[:,-1]\n",
    "    V_0 = np.eye(len(y_T))[:,:p0+pe]\n",
    "    V_0,_ = np.linalg.qr(V_0)\n",
    "    print(\"Dimension \", len(y0))\n",
    "    orbit_finder = orbit(f,y_T,model.T_ini, Jacf,2, Max_iter, epsilon)\n",
    "    start = time.time()\n",
    "    k, T_by_iter, y_by_iter, Norm_B, Norm_Deltay = orbit_finder.NP_project_anim(f,y_T,\n",
    "                         model.T_ini, V_0, p0,pe, rho, Jacf, Max_iter,subspace_iter, epsilon)\n",
    "    end = time.time()\n",
    "    p0 = p0+2\n",
    "\n",
    "    return end - start\n"
   ]
  },
  {
   "cell_type": "code",
   "execution_count": null,
   "metadata": {},
   "outputs": [],
   "source": [
    "run2(16,p0=25,pe=4)"
   ]
  },
  {
   "cell_type": "code",
   "execution_count": null,
   "metadata": {},
   "outputs": [],
   "source": [
    "%%time\n",
    "NP_projec = Parallel(n_jobs=8\n",
    "               , prefer='processes',\n",
    "               timeout=1000)(delayed(run2)(N,p0,pe) for N in np.arange(10,100,10)\n",
    "               )"
   ]
  },
  {
   "cell_type": "code",
   "execution_count": null,
   "metadata": {},
   "outputs": [],
   "source": [
    "Dim = np.arange(10,100,10)\n",
    "fig, ax = plt.subplots(1,2,sharex='all',figsize=(12, 4))\n",
    "\n",
    "ax[0].plot(Dim, NP_projec, label =\"NP sub. projec\")\n",
    "ax[0].plot(Dim, NP_simple_time,'+-', label =\"NP simple sub.\")\n",
    "ax[0].set_ylabel(\"Computational time in seconds\")\n",
    "ax[0].set_xlabel(\"Dimension N\")\n",
    "ax[0].legend()\n",
    "ax[1].plot(Dim, newton_time, label =\"Newton\")\n",
    "ax[1].set_ylabel(\"Computational time in seconds\")\n",
    "ax[1].set_xlabel(\"Dimension N\")\n",
    "ax[1].legend()\n",
    "\n",
    "fig.subplots_adjust(left=0.09, bottom=0.1, right=0.95, top=0.90, hspace=0.35, wspace=0.35)\n",
    "\n",
    "plt.savefig(f'./Results/brusslator/computational_time.png')\n",
    "\n"
   ]
  },
  {
   "cell_type": "code",
   "execution_count": null,
   "metadata": {},
   "outputs": [],
   "source": [
    "np.eye(len(y_T))[0].shape"
   ]
  },
  {
   "cell_type": "code",
   "execution_count": null,
   "metadata": {},
   "outputs": [],
   "source": [
    "p0, pe = 2 ,4\n",
    "_,monodromy = orbit_finder.integ_monodromy(np.array(y_by_iter[k-1]),T_by_iter[k-1])\n",
    "subspace_iter = 5\n",
    "rho = 0.5\n",
    "eig, eigvec = np.linalg.eig(monodromy)\n",
    "V_0 = np.real(eigvec[:,:p0+pe])\n",
    "V_0 = np.eye(len(y_T))[:,:p0+pe]\n",
    "V_0,_ = np.linalg.qr(V_0)\n",
    "v0 = V_0[:,0]\n",
    "V_0.shape\n"
   ]
  },
  {
   "cell_type": "markdown",
   "metadata": {},
   "source": [
    "### Checking the subspace iteration algorithm"
   ]
  },
  {
   "cell_type": "code",
   "execution_count": null,
   "metadata": {},
   "outputs": [],
   "source": [
    "%%time\n",
    "# eigen , Vp = orbit_finder.base_Vp(v0, y, T, f, Jacf, p0+pe, epsilon)\n",
    "# Re, Ye, Ve, We,p =  orbit_finder.subsp_iter_projec(V_0, y, T, f, Jacf,rho, p0, pe, subspace_iter, tol=1e-6)\n",
    "sol = solve_ivp(fun=f,t_span=[0.0, T],\n",
    "                    t_eval=[T],\n",
    "                    dense_output = True,\n",
    "                    y0=y, method= \"RK45\", \n",
    "                    **{\"rtol\": 1e-7,\"atol\":1e-9}\n",
    "                    )\n",
    "# phi_t = interp1d(sol.t, sol.y, kind='linear', fill_value=\"extrapolate\")\n",
    "phi_t = sol\n",
    "print('here')       \n"
   ]
  },
  {
   "cell_type": "code",
   "execution_count": null,
   "metadata": {},
   "outputs": [],
   "source": [
    "%%time\n",
    "Ve = orbit_finder.subspace_iter(V_0, T, Jacf,phi_t, p0, pe, subspace_iter)"
   ]
  },
  {
   "cell_type": "code",
   "execution_count": null,
   "metadata": {},
   "outputs": [],
   "source": [
    "sol.y[:,-1] - sol.sol(T)"
   ]
  },
  {
   "cell_type": "code",
   "execution_count": null,
   "metadata": {},
   "outputs": [],
   "source": [
    "We = np.column_stack([\n",
    "                orbit_finder.monodromy_mult2( T, Jacf, Ve[:, j],\n",
    "                                    phi_t)\n",
    "                for j in range(Ve.shape[1])\n",
    "            ])\n",
    "Se = Ve.T @ We\n",
    "Re, Ye, p= schur(Se, output='real',sort= lambda x,y: np.sqrt(x**2 + y**2) > rho)"
   ]
  },
  {
   "cell_type": "code",
   "execution_count": null,
   "metadata": {},
   "outputs": [],
   "source": [
    "Mat_vect = LinearOperator((len(y0),len(y0)),matvec = lambda v : orbit_finder.monodromy_mult(y, T, f,Jacf, v, method = 2, epsilon = 1e-6))\n",
    "Mat_vect2 = LinearOperator((len(y0),len(y0)),matvec = lambda v : orbit_finder.monodromy_mult2(T, Jacf, Ve[:, 0],phi_t))\n"
   ]
  },
  {
   "cell_type": "code",
   "execution_count": null,
   "metadata": {},
   "outputs": [],
   "source": [
    "# np.linalg.norm(orbit_finder.monodromy_mult2(T, Jacf, Ve[:, 0],phi_t,\n",
    "#                               ) - monodromy@Ve[:,0])\n",
    "np.linalg.norm(Mat_vect2*Ve[:, 0] - monodromy@Ve[:,0])\n",
    "# Mat_vect2*Ve[:, 0]"
   ]
  },
  {
   "cell_type": "code",
   "execution_count": null,
   "metadata": {},
   "outputs": [],
   "source": [
    "# Vp,_ = np.linalg.qr(Ve @ Ye[:, :p])\n",
    "Vp = Ve[:, :p]\n",
    "# Vp = Ve @ Ye[:, :p]\n",
    "# Vp,_ = np.linalg.qr(Ve @ Ye[:, :p])\n",
    "print(\"Orthogonality :\", np.allclose(Vp.T@Vp, np.eye(Vp.shape[1])))\n",
    "np.linalg.norm(Vp[:,0],ord=2)\n"
   ]
  },
  {
   "cell_type": "code",
   "execution_count": null,
   "metadata": {},
   "outputs": [],
   "source": [
    "eigen, _ = np.linalg.eig(Re)\n",
    "p\n",
    "# Ye[:,:p].shape"
   ]
  },
  {
   "cell_type": "code",
   "execution_count": null,
   "metadata": {},
   "outputs": [],
   "source": [
    "mask1 = np.abs(eig) > rho\n",
    "mask2 = np.abs(eigen) > rho\n",
    "max_eigenvalues = np.sort(eig[mask1])[::-1]   \n",
    "print(\"Eigenvalues from subspace iteration \\n\",(eigen[mask2]))\n",
    "print(\"The first eigenvalues of the converged monodromy matrix \\n\", max_eigenvalues)\n",
    "np.abs(eigen[mask2])"
   ]
  },
  {
   "cell_type": "markdown",
   "metadata": {},
   "source": [
    "### Newton-Picard Gauss-Seidel "
   ]
  },
  {
   "cell_type": "code",
   "execution_count": null,
   "metadata": {},
   "outputs": [],
   "source": [
    "%%time\n",
    "Max_iter = 30\n",
    "p0, pe = 5,4\n",
    "subsapace_iter = 5\n",
    "# V_0 = np.real(eigvec[:,:p0+pe])\n",
    "V_0 = np.eye(len(y_T))[:,:p0+pe]\n",
    "k, T_by_iter, y_by_iter, Norm_B, Norm_Deltay = orbit_finder.Newton_Picard_subspace_iter(f,y_T,\n",
    "                         T_0, V_0, p0,pe, rho, Jacf, Max_iter,subspace_iter, epsilon)"
   ]
  },
  {
   "cell_type": "code",
   "execution_count": null,
   "metadata": {},
   "outputs": [],
   "source": [
    "Newton_time + Picard_time\n",
    "# Picard_time"
   ]
  },
  {
   "cell_type": "markdown",
   "metadata": {},
   "source": [
    "## Convergence check"
   ]
  },
  {
   "cell_type": "code",
   "execution_count": null,
   "metadata": {},
   "outputs": [],
   "source": [
    "eig, eigvec = np.linalg.eig(monodromy)\n",
    "# Extract real and imaginary parts of eigenvalues\n",
    "real_parts = np.real(eig)\n",
    "imaginary_parts = np.imag(eig)\n",
    "print(imaginary_parts.shape)\n",
    "# Create the figure and axis\n",
    "fig, ax = plt.subplots(figsize=(6, 6))\n",
    "\n",
    "# Plot the unit circle\n",
    "theta = np.linspace(0, 2 * np.pi, 1000)\n",
    "circle_x = np.cos(theta)\n",
    "circle_y = np.sin(theta)\n",
    "ax.plot(circle_x, circle_y, 'k--', label='Unit Circle')\n",
    "\n",
    "# Plot the eigenvalues\n",
    "ax.scatter(real_parts, imaginary_parts, color='r', label='Eigenvalues')\n",
    "\n",
    "# Set labels and title\n",
    "ax.set_xlabel(r'Re($\\lambda$)')\n",
    "ax.set_ylabel(r'Im($\\lambda$)')\n",
    "ax.set_title(f'Eigenvalues of the Monodromy matrix on Complex Plane \\n with L = {model.L}')\n",
    "\n",
    "# Set equal aspect ratio\n",
    "ax.set_aspect('equal', 'box')\n",
    "\n",
    "# Add grid, legend, and plot\n",
    "ax.grid(True)\n",
    "# ax.legend()\n",
    "\n",
    "# Show the plot\n",
    "plt.show()\n",
    "\n",
    "Tab = np.asarray(y_by_iter[:k-1])\n",
    "X = Tab[:,N-2:]\n",
    "Y = Tab[:,:N-2]\n",
    "\n",
    "fig0, ax = plt.subplots(2,2,sharex='all')\n",
    "ax[0,0].plot(np.arange(k-1),X.mean(axis=1),'+-')\n",
    "ax[0,0].set_ylabel(f\"$<X>$\")\n",
    "\n",
    "ax[0,1].plot(np.arange(k-1),Y.mean(axis=1),'+-')\n",
    "ax[0,1].set_ylabel(f\"$<Y>$\")\n",
    "ax[1,0].semilogy(np.arange(k),Norm_Deltay[:k],'x-')\n",
    "ax[1,0].set_xlabel(\"Newton iterations\")\n",
    "ax[1,0].set_ylabel(r\"$\\parallel \\Delta y \\parallel$\")\n",
    "ax[1,1].semilogy(np.arange(k),Norm_B[:k],'x-')\n",
    "ax[1,1].set_xlabel(\"Newton iterations\")\n",
    "ax[1,1].set_ylabel(r\"$\\parallel \\phi(y^*(0),T) - y^*(T) \\parallel$\")\n",
    "# ax[1,1].set_ylabel(f\"$\\parallel (r,s) \\parallel_2$\")\n",
    "fig0.set_size_inches((8,8))\n",
    "fig0.suptitle(f'Brusselator model: $L=%.4f$ \\n $T = %.4f$ ' % (model.L, T_by_iter[k-1]))\n",
    "fig0.subplots_adjust(left=0.09, bottom=0.1, right=0.95, top=0.90, hspace=0.35, wspace=0.55)\n",
    "# plt.savefig(f'./Results/brusselator/NP_test2_m_{str(m)}.png')\n",
    "\n",
    "plt.show()\n",
    "y0 = np.array(y_by_iter[k-1])\n",
    "t_eval = np.linspace(0.0,2*T_by_iter[k-1], 1000)\n",
    "\n",
    "sol = solve_ivp(fun=f,t_span=[0.0, 2*T_by_iter[k-1]],\n",
    "                t_eval=t_eval, \n",
    "                y0=y0, method='RK45', \n",
    "                **{\"rtol\": 1e-7,\"atol\":1e-9}\n",
    "                )\n",
    "\n",
    "Xmean = sol.y[:N-2,:]\n",
    "#Xmean = np.mean(Xmean,axis = 0)\n",
    "Ymean = sol.y[N-2:,:]\n",
    "#Ymean = np.mean(Ymean,axis = 0)\n",
    "fig1, ax = plt.subplots(1,2)\n",
    "ax[0].plot(t_eval, Xmean[23], label = '<X>')\n",
    "ax[0].plot(t_eval, Ymean[23], label='<Y>')\n",
    "ax[0].legend()\n",
    "ax[0].set_ylabel(\"Concentrations\")\n",
    "ax[0].set_xlabel(\"t\")\n",
    "ax[1].plot(Xmean[23],Ymean[23])\n",
    "ax[1].set_ylabel(r\"$<Y>$\")\n",
    "ax[1].set_xlabel(r\"$<X>$\")\n",
    "fig1.set_size_inches((10,5))\n",
    "fig1.suptitle(r'Brusselator Model with Dirichlet BCs:')\n",
    "fig1.subplots_adjust(left=0.09, bottom=0.1, right=0.95, top=0.90, hspace=0.35, wspace=0.55)\n",
    "# plt.savefig(f'./Results/brusselator_1D.png')\n",
    "\n",
    "#_____Saving the graphs into a pdf file__________\n",
    "# ficout = model.out_dir + \"test_NP_Arnoldi_%i.pdf\" %model.num_test\n",
    "\n",
    "# with PdfPages(ficout, keep_empty=False) as pdf:\n",
    "#         pdf.savefig(figure=fig)\n",
    "#         pdf.savefig(figure=fig0)\n",
    "#         pdf.savefig(figure=fig1)"
   ]
  },
  {
   "cell_type": "code",
   "execution_count": null,
   "metadata": {},
   "outputs": [],
   "source": [
    "%pip install imageio"
   ]
  },
  {
   "cell_type": "code",
   "execution_count": null,
   "metadata": {},
   "outputs": [],
   "source": [
    "import matplotlib.pyplot as plt\n",
    "import numpy as np\n",
    "import imageio\n",
    "\n",
    "images = []\n",
    "for i in range(50):\n",
    "    plt.figure()\n",
    "    x = np.linspace(0, 2 * np.pi, 100)\n",
    "    y = np.sin(x + i * 0.1)\n",
    "    plt.plot(x, y)\n",
    "    plt.title(f\"Iteration {i}\")\n",
    "    plt.savefig(f\"frame_{i}.png\")\n",
    "    plt.close()\n",
    "    images.append(imageio.imread(f\"frame_{i}.png\"))\n",
    "\n",
    "imageio.mimsave('iterative_animation.gif', images, duration=0.0005)\n",
    "\n",
    "# You would typically delete the individual frame images after creating the animation\n",
    "import os\n",
    "for i in range(50):\n",
    "    os.remove(f\"frame_{i}.png\")"
   ]
  },
  {
   "cell_type": "code",
   "execution_count": null,
   "metadata": {},
   "outputs": [],
   "source": [
    "import matplotlib.pyplot as plt\n",
    "import numpy as np\n",
    "import imageio\n",
    "import os\n",
    "\n",
    "def create_frame(i, color):\n",
    "    \"\"\"Creates a single frame with a specific plot color.\"\"\"\n",
    "    fig, ax = plt.subplots()\n",
    "    ax.set_xlim(0, 2 * np.pi)\n",
    "    ax.set_ylim(-1, 1)\n",
    "    x = np.linspace(0, 2 * np.pi, 100)\n",
    "    y = np.sin(x + i * 0.1)\n",
    "    ax.plot(x, y, color=color)  # Set plot color here\n",
    "    ax.set_title(f\"Iteration {i}\")\n",
    "\n",
    "    filename = f\"frame_{i}.png\"\n",
    "    plt.savefig(filename)\n",
    "    plt.close(fig)\n",
    "    return filename\n",
    "\n",
    "if __name__ == \"__main__\":\n",
    "    num_frames = 50\n",
    "    plot_colors = ['blue', 'red', 'green', 'purple']\n",
    "    filenames = []\n",
    "\n",
    "    for i in range(num_frames):\n",
    "        color_index = i % len(plot_colors)\n",
    "        filename = create_frame(i, plot_colors[color_index])\n",
    "        filenames.append(filename)\n",
    "\n",
    "    # Read the generated frames\n",
    "    images = [imageio.imread(filename) for filename in filenames]\n",
    "\n",
    "    # Save as a GIF\n",
    "    imageio.mimsave('alternating_plot_color.gif', images, duration=15.1)\n",
    "\n",
    "    # Clean up individual frame files\n",
    "    # for filename in filenames:\n",
    "        # os.remove(filename)\n",
    "\n",
    "    print(\"Animation 'alternating_plot_color.gif' created successfully!\")"
   ]
  }
 ],
 "metadata": {
  "kernelspec": {
   "display_name": ".venv",
   "language": "python",
   "name": "python3"
  },
  "language_info": {
   "codemirror_mode": {
    "name": "ipython",
    "version": 3
   },
   "file_extension": ".py",
   "mimetype": "text/x-python",
   "name": "python",
   "nbconvert_exporter": "python",
   "pygments_lexer": "ipython3",
   "version": "3.12.10"
  }
 },
 "nbformat": 4,
 "nbformat_minor": 2
}
