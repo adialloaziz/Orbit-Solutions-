{
 "cells": [
  {
   "cell_type": "code",
   "execution_count": null,
   "metadata": {},
   "outputs": [],
   "source": [
    "import numpy as np\n",
    "import matplotlib.pyplot as plt\n",
    "from scipy.integrate import solve_ivp\n",
    "from scipy.linalg import solve\n",
    "from utility import orbit, BrusselatorModel\n",
    "import sys\n",
    "from scipy.sparse.linalg import LinearOperator\n",
    "from scipy.sparse.linalg import eigs\n",
    "from matplotlib.backends.backend_pdf import PdfPages\n"
   ]
  },
  {
   "cell_type": "code",
   "execution_count": null,
   "metadata": {},
   "outputs": [],
   "source": [
    "if __name__ == \"__main__\":\n",
    "    param_file = \"./brusselator_params_2.in\"  # JSON file containing model parameters\n",
    "    model = BrusselatorModel(param_file)\n",
    "    print(\"Loaded parameters:\", model.N)\n",
    "\n",
    "f = model.dydt\n",
    "Jacf = model.brusselator_jacobian\n",
    "# Parameters\n",
    "z_L = model.z_L\n",
    "N = model.N\n",
    "A, B = model.A, model.B\n",
    "z = np.linspace(0, z_L, N)\n",
    "perturb = np.sin(np.pi*(z/z_L))\n",
    "\n",
    "X0 = A + 0.01*perturb\n",
    "Y0 = B/A + 0.01*perturb\n",
    "\n",
    "y0 = np.concatenate([X0[1:-1],Y0[1:-1]])\n",
    "\n",
    "Max_iter = 30\n",
    "epsilon = model.precision\n",
    "T_0 = model.T_ini\n",
    "\n",
    "\n",
    "t_eval = np.linspace(0.0,20*model.T_ini, 1000)\n",
    "\n",
    "sol = solve_ivp(fun=f,t_span=[0.0, 20*T_0],\n",
    "                t_eval=[20*model.T_ini], \n",
    "                y0=y0, method='RK45', \n",
    "                **{\"rtol\": 1e-7,\"atol\":1e-9}\n",
    "                )\n",
    "\n",
    "y_T = sol.y[:,-1]\n",
    "y_T.shape\n"
   ]
  },
  {
   "cell_type": "code",
   "execution_count": null,
   "metadata": {},
   "outputs": [],
   "source": [
    "orbit_finder = orbit(f,y_T,T_0, Jacf,2, Max_iter, epsilon)\n",
    "\n",
    "k, T_by_iter, y_by_iter, Norm_B, Norm_Deltay, monodromy = orbit_finder.Newton_orbit(f,y_T,T_0, Jacf,2, Max_iter, epsilon)\n",
    "\n",
    "T = T_by_iter[k-1]\n",
    "y = np.array(y_by_iter[k-1])\n"
   ]
  },
  {
   "cell_type": "code",
   "execution_count": null,
   "metadata": {},
   "outputs": [],
   "source": [
    "p0, pe = 5 ,4\n",
    "\n",
    "subspace_iter =4\n",
    "rho = 0.5\n",
    "eig, eigvec = np.linalg.eig(monodromy)\n",
    "# V_0 = np.real(eigvec[:p0+pe])\n",
    "V_0 = np.eye(len(y_T))[:,:p0+pe]\n",
    "V_0,_ = np.linalg.qr(V_0)\n",
    "v0 = V_0[:,0]"
   ]
  },
  {
   "cell_type": "markdown",
   "metadata": {},
   "source": [
    "### Checking the subspace iteration algorithm"
   ]
  },
  {
   "cell_type": "code",
   "execution_count": null,
   "metadata": {},
   "outputs": [],
   "source": [
    "%%time\n",
    "eigen , Vp = orbit_finder.base_Vp(v0, y, T, f, Jacf, p0+pe, epsilon)\n",
    "Re, Ye, Ve, We,p =  orbit_finder.subsp_iter_projec(V_0, y, T, f, Jacf,rho, p0, pe, subspace_iter, tol=1e-6)"
   ]
  },
  {
   "cell_type": "code",
   "execution_count": null,
   "metadata": {},
   "outputs": [],
   "source": [
    "# Vp,_ = np.linalg.qr(Ve @ Ye[:, :p])\n",
    "Vp = Ve @ Ye[:, :p]\n",
    "# Vp,_ = np.linalg.qr(Ve @ Ye[:, :p])\n",
    "print(\"Orthogonality :\", np.allclose(Vp.T@Vp, np.eye(Vp.shape[1])))\n",
    "np.linalg.norm(Vp[:,0],ord=2)\n"
   ]
  },
  {
   "cell_type": "code",
   "execution_count": null,
   "metadata": {},
   "outputs": [],
   "source": [
    "eigen, _ = np.linalg.eig(Re)\n",
    "p"
   ]
  },
  {
   "cell_type": "code",
   "execution_count": null,
   "metadata": {},
   "outputs": [],
   "source": [
    "mask1 = np.abs(eig) > rho\n",
    "mask2 = np.abs(eigen) > rho\n",
    "max_eigenvalues = np.sort(eig[mask1])[::-1]   \n",
    "print(\"Eigenvalues from subspace iteration \\n\",(eigen[mask2]))\n",
    "print(\"The first eigenvalues of the converged monodromy matrix \\n\", max_eigenvalues)\n",
    "np.abs(eigen[mask2])"
   ]
  },
  {
   "cell_type": "markdown",
   "metadata": {},
   "source": [
    "### Newton-Picard Gauss-Seidel "
   ]
  },
  {
   "cell_type": "code",
   "execution_count": null,
   "metadata": {},
   "outputs": [],
   "source": [
    "%%time\n",
    "# k, T_by_iter, y_by_iter, Norm_B, Norm_Deltay, monodromy = orbit_finder.Newton_Picard1(f,y_T,\n",
    "# T_0, v0, p0,pe, rho, Jacf, Max_iter, epsilon)\n",
    "k, T_by_iter, y_by_iter, Norm_B, Norm_Deltay, monodromy = orbit_finder.Newton_Picard_subspace_iter(f,y_T,\n",
    "                         T_0, V_0, p0,pe, rho, Jacf, Max_iter,subspace_iter, epsilon)"
   ]
  },
  {
   "cell_type": "markdown",
   "metadata": {},
   "source": [
    "## Convergence check"
   ]
  },
  {
   "cell_type": "code",
   "execution_count": null,
   "metadata": {},
   "outputs": [],
   "source": [
    "eig, eigvec = np.linalg.eig(monodromy)\n",
    "# Extract real and imaginary parts of eigenvalues\n",
    "real_parts = np.real(eig)\n",
    "imaginary_parts = np.imag(eig)\n",
    "print(imaginary_parts.shape)\n",
    "# Create the figure and axis\n",
    "fig, ax = plt.subplots(figsize=(6, 6))\n",
    "\n",
    "# Plot the unit circle\n",
    "theta = np.linspace(0, 2 * np.pi, 1000)\n",
    "circle_x = np.cos(theta)\n",
    "circle_y = np.sin(theta)\n",
    "ax.plot(circle_x, circle_y, 'k--', label='Unit Circle')\n",
    "\n",
    "# Plot the eigenvalues\n",
    "ax.scatter(real_parts, imaginary_parts, color='r', label='Eigenvalues')\n",
    "\n",
    "# Set labels and title\n",
    "ax.set_xlabel(r'Re($\\lambda$)')\n",
    "ax.set_ylabel(r'Im($\\lambda$)')\n",
    "ax.set_title(f'Eigenvalues of the Monodromy matrix on Complex Plane \\n with L = {model.L}')\n",
    "\n",
    "# Set equal aspect ratio\n",
    "ax.set_aspect('equal', 'box')\n",
    "\n",
    "# Add grid, legend, and plot\n",
    "ax.grid(True)\n",
    "# ax.legend()\n",
    "\n",
    "# Show the plot\n",
    "plt.show()\n",
    "\n",
    "Tab = np.asarray(y_by_iter[:k-1])\n",
    "X = Tab[:,N-2:]\n",
    "Y = Tab[:,:N-2]\n",
    "\n",
    "fig0, ax = plt.subplots(2,2,sharex='all')\n",
    "ax[0,0].plot(np.arange(k-1),X.mean(axis=1),'+-')\n",
    "ax[0,0].set_ylabel(f\"$<X>$\")\n",
    "\n",
    "ax[0,1].plot(np.arange(k-1),Y.mean(axis=1),'+-')\n",
    "ax[0,1].set_ylabel(f\"$<Y>$\")\n",
    "ax[1,0].semilogy(np.arange(k),Norm_Deltay[:k],'x-')\n",
    "ax[1,0].set_xlabel(\"Newton iterations\")\n",
    "ax[1,0].set_ylabel(r\"$\\parallel \\Delta y \\parallel$\")\n",
    "ax[1,1].semilogy(np.arange(k),Norm_B[:k],'x-')\n",
    "ax[1,1].set_xlabel(\"Newton iterations\")\n",
    "ax[1,1].set_ylabel(r\"$\\parallel \\phi(y^*(0),T) - y^*(T) \\parallel$\")\n",
    "# ax[1,1].set_ylabel(f\"$\\parallel (r,s) \\parallel_2$\")\n",
    "fig0.set_size_inches((8,8))\n",
    "fig0.suptitle(f'Brusselator model: $L=%.4f$ \\n $T = %.4f$ ' % (model.L, T_by_iter[k-1]))\n",
    "fig0.subplots_adjust(left=0.09, bottom=0.1, right=0.95, top=0.90, hspace=0.35, wspace=0.55)\n",
    "# plt.savefig(f'./Results/brusselator/NP_test2_m_{str(m)}.png')\n",
    "\n",
    "plt.show()\n",
    "y0 = np.array(y_by_iter[k-1])\n",
    "t_eval = np.linspace(0.0,2*T_by_iter[k-1], 1000)\n",
    "\n",
    "sol = solve_ivp(fun=f,t_span=[0.0, 2*T_by_iter[k-1]],\n",
    "                t_eval=t_eval, \n",
    "                y0=y0, method='RK45', \n",
    "                **{\"rtol\": 1e-7,\"atol\":1e-9}\n",
    "                )\n",
    "\n",
    "Xmean = sol.y[:N-2,:]\n",
    "#Xmean = np.mean(Xmean,axis = 0)\n",
    "Ymean = sol.y[N-2:,:]\n",
    "#Ymean = np.mean(Ymean,axis = 0)\n",
    "fig1, ax = plt.subplots(1,2)\n",
    "ax[0].plot(t_eval, Xmean[23], label = '<X>')\n",
    "ax[0].plot(t_eval, Ymean[23], label='<Y>')\n",
    "ax[0].legend()\n",
    "ax[0].set_ylabel(\"Concentrations\")\n",
    "ax[0].set_xlabel(\"t\")\n",
    "ax[1].plot(Xmean[23],Ymean[23])\n",
    "ax[1].set_ylabel(r\"$<Y>$\")\n",
    "ax[1].set_xlabel(r\"$<X>$\")\n",
    "fig1.set_size_inches((10,5))\n",
    "fig1.suptitle(r'Brusselator Model with Dirichlet BCs:')\n",
    "fig1.subplots_adjust(left=0.09, bottom=0.1, right=0.95, top=0.90, hspace=0.35, wspace=0.55)\n",
    "# plt.savefig(f'./Results/brusselator_1D.png')\n",
    "\n",
    "#_____Saving the graphs into a pdf file__________\n",
    "# ficout = model.out_dir + \"test_NP_Arnoldi_%i.pdf\" %model.num_test\n",
    "\n",
    "# with PdfPages(ficout, keep_empty=False) as pdf:\n",
    "#         pdf.savefig(figure=fig)\n",
    "#         pdf.savefig(figure=fig0)\n",
    "#         pdf.savefig(figure=fig1)"
   ]
  }
 ],
 "metadata": {
  "kernelspec": {
   "display_name": ".venv",
   "language": "python",
   "name": "python3"
  },
  "language_info": {
   "codemirror_mode": {
    "name": "ipython",
    "version": 3
   },
   "file_extension": ".py",
   "mimetype": "text/x-python",
   "name": "python",
   "nbconvert_exporter": "python",
   "pygments_lexer": "ipython3",
   "version": "3.12.10"
  }
 },
 "nbformat": 4,
 "nbformat_minor": 2
}
