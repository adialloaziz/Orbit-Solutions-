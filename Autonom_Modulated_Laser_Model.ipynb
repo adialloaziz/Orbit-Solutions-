{
 "cells": [
  {
   "cell_type": "code",
   "execution_count": null,
   "metadata": {},
   "outputs": [],
   "source": [
    "import numpy as np\n",
    "import matplotlib.pyplot as plt\n",
    "from scipy.linalg import solve\n",
    "from scipy.integrate import solve_ivp\n"
   ]
  },
  {
   "cell_type": "code",
   "execution_count": null,
   "metadata": {},
   "outputs": [],
   "source": [
    "f_modul = lambda t,X, A, m, w, gamma: np.array([X[1] - 1 - m*np.cos(X[2]) ,\n",
    "                            (A - X[1]*(1 + np.exp(X[0])))*gamma, w])\n",
    "\n",
    "Jacf_modul = lambda t,X,m,gamma: np.array([[0,1, -m*np.sin(X[2])],\n",
    "                                           [-gamma*X[1]*np.exp(X[0]),-gamma*(1+np.exp(X[0])),0],\n",
    "                                           [0,0,0]])\n",
    "\n",
    "s_modul = lambda t,X,A,m,w,gamma : X[1] - 1 - m\n",
    "GradS_modul = lambda t,X,A,m,w,gamma: np.array([0,1, 0*m*np.sin(X[2])])\n",
    "\n",
    "s_modul2 = lambda t,X, A,m,w,gamma: gamma*(A - X[1]*(1+np.exp(X[0])))\n",
    "GradS_modul2 = lambda t,X,A,m,w,gamma: np.array([-gamma*X[1]*np.exp(X[0]),-gamma*(1+np.exp(X[0])),0.0])\n",
    "\n",
    "ds_T_modul = lambda t,X: 0.0"
   ]
  },
  {
   "cell_type": "code",
   "execution_count": null,
   "metadata": {},
   "outputs": [],
   "source": [
    "def big_system(t, Y_M, f, Jacf, dim, A, m, w, gamma):\n",
    "    # Solving numerically the initial value problem (dy/dt,dM/dt = (f(t,y),Gradf*M) \n",
    "    M = Y_M[dim:].reshape((dim, dim), order = 'F')  # Reshape the flat array back into a dim^2 x dim matrix\n",
    "    dM_dt = Jacf(t,Y_M[:dim],m,gamma) @ M  # Compute the matrix derivative\n",
    "    \n",
    "    return np.concatenate([f(t, Y_M[:dim],A,m,w,gamma),dM_dt.flatten(order = 'F')])"
   ]
  },
  {
   "cell_type": "code",
   "execution_count": null,
   "metadata": {},
   "outputs": [],
   "source": [
    "def Newton_orbite_T_known(f, X_0,T,A, m, w, gamma, Jacf, Max_iter, epsilon):\n",
    "    \n",
    "    dim = np.shape(X_0)[0] #The problem's dimension\n",
    "    #________________________________INITIALISATION_____________________________________\n",
    "    k, Xstar_0 = 0, X_0\n",
    "    # sol = solve_ivp(lambda t, X: f(t,X, A, m, w, gamma),t_span=[0.0, T], y0=X_0, t_eval=[T],\n",
    "                    #  method='RK45', option={\"rtol\": 1e-5,\"atol\":1e-7})\n",
    "    \n",
    "\n",
    "    X_by_iter , Norm_DeltaX, Norm_B = np.zeros((Max_iter+1,dim)),np.zeros((Max_iter+1)),np.zeros((Max_iter+1))\n",
    "    X_by_iter[0,:] = Xstar_0\n",
    "    Norm_DeltaX[0] = norm_delta_X = 1 # \n",
    "    # Norm_B[0] = norm_B = np.linalg.norm(sol.y[:,-1] - Xstar_0, ord=2)\n",
    "\n",
    "    #_____________Newton iteration loop____________________\n",
    "    while (norm_delta_X > epsilon  and k<Max_iter):\n",
    "        \n",
    "        #- Solving numerically the initial value problem (dy/dt,dM/dt = (f(t,y),Gradf*M)\n",
    "        M = np.eye(dim) #Initialisation of the monodromy matrix\n",
    "        X_M = np.concatenate([Xstar_0, M.flatten()])\n",
    "        #  Solve the system of ODEs\n",
    "        big_sol= solve_ivp(lambda t, X: big_system(t, X, f, Jacf, dim, A, m, w, gamma), [0.0,T], y0=X_M,\n",
    "                            method='RK45',**{\"rtol\": 1e-5,\"atol\":1e-7}) #It's a function of t\n",
    "        \n",
    "        Xstar_T = big_sol.y[:dim,-1] # The solution at T\n",
    "        M = big_sol.y[dim:,-1] #We take M(T)\n",
    "        M = M.reshape((dim,dim), order='F') #Back to the square matrix format\n",
    "        #______Computation of DeltaX and DeltaT_____\n",
    "        \n",
    "        Delta_X = np.linalg.solve(M - np.eye(dim),-(Xstar_T - Xstar_0))\n",
    "\n",
    "        # Delta_X = np.linalg.lstsq(Mat, -B, rcond=None)[0]\n",
    "        \n",
    "\n",
    "        #Updating\n",
    "        Xstar_0 += Delta_X\n",
    "\n",
    "        norm_delta_X = np.linalg.norm(Delta_X)\n",
    "        norm_B = np.linalg.norm(Xstar_T - Xstar_0)\n",
    "\n",
    "        print(\"Iteration\", k, \"\\n\")\n",
    "        print(\"Norm(Dx) = \", norm_delta_X,\"\\n\")\n",
    "        X_by_iter[k,:] = Xstar_0\n",
    "        Norm_DeltaX[k] = norm_delta_X\n",
    "        Norm_B[k] = norm_B\n",
    "        k += 1\n",
    "        \n",
    "\n",
    "    # eigenvalues, eigenvectors = np.linalg.eig(monodromy)\n",
    "    return k, X_by_iter, Norm_DeltaX,Norm_B, M"
   ]
  },
  {
   "cell_type": "code",
   "execution_count": null,
   "metadata": {},
   "outputs": [],
   "source": [
    "def Newton_orbit(f,s, X_0,T_0,A, m, w, gamma, Jacf,GradS,ds_T, Max_iter, epsilon):\n",
    "    #Ici on resoud tout le system en assemblant la grande matrice par bloque\n",
    "    dim = np.shape(X_0)[0] #The problem dimension\n",
    "\n",
    "    #________________________________INITIALISATION___________________________________________________________\n",
    "    k, Xstar_0, Tstar = 0, X_0, T_0\n",
    "\n",
    "    X_by_iter, T_by_iter = np.zeros((Max_iter,dim)),np.zeros((Max_iter))\n",
    "    Norm_B = Norm_DeltaX = np.zeros((Max_iter))\n",
    "    Norm_DeltaX[0] = norm_delta_X = 1 # \n",
    "    #_____________Newton iteration loop________________\n",
    "    while norm_delta_X > epsilon  and k < Max_iter:\n",
    "        print(\"Iteration\", k, \"\\n\")\n",
    "        print(\"Norm(Dx) = \", norm_delta_X,\"\\n\")\n",
    "        X_by_iter[k,:] = Xstar_0\n",
    "        Norm_DeltaX[k] = norm_delta_X\n",
    "                \n",
    "        X_by_iter[k,:] = Xstar_0\n",
    "        T_by_iter[k] = Tstar\n",
    "\n",
    "\n",
    "        X_M = np.zeros((dim+dim**2)) #We solve simustanuously d+d*d ODEs\n",
    "        monodromy = np.eye(dim) #Initialisation of the monodromy matrix\n",
    "\n",
    "        X_M[:dim] = Xstar_0\n",
    "        X_M[dim:] = monodromy.flatten(order='F')\n",
    "        big_sol= solve_ivp(big_system, [0.0,Tstar], X_M,\n",
    "                            t_eval=[Tstar],\n",
    "                            args=(f,Jacf,dim,A, m, w, gamma),\n",
    "                            method='RK45',**{\"rtol\": 1e-5,\"atol\":1e-7}) #It's a function of t\n",
    "        \n",
    "        Xstar_T = big_sol.y[:dim,-1] #dimension d+d*d\n",
    "        monodromy = big_sol.y[dim:,-1]#We take M(T)\n",
    "\n",
    "        monodromy = monodromy.reshape(dim,dim, order = \"F\") #Back to the square matrix format\n",
    "        d = ds_T(Xstar_0, Tstar)\n",
    "        c = GradS(Tstar,Xstar_0,A,m,w, gamma)\n",
    "        bb = f(Tstar, Xstar_T, A, m, w, gamma)\n",
    "        #Concat the whole matrix\n",
    "        top = np.hstack((monodromy - np.eye(dim), bb.reshape(-1,1)))  # Horizontal stacking of A11=M-I and A12=b\n",
    "        bottom = np.hstack((c.reshape(1,-1),np.array([[d]])))  # Horizontal stacking of A21=c and A22=d\n",
    "        Mat = np.vstack((top, bottom))  # Vertical stacking of the two rows\n",
    "        \n",
    "        #Right hand side concatenation\n",
    "        B = np.concatenate((Xstar_T - Xstar_0, np.array([s(Tstar,Xstar_0, A, m, w, gamma)])))\n",
    "        XX = solve(Mat,-B) #Contain Delta_X and Delta_T\n",
    "        #XX = np.linalg.lstsq(Mat, -B, rcond=None)[0]\n",
    "        Delta_X = XX[:dim]\n",
    "        Delta_T = XX[-1]\n",
    "        \n",
    "        #Updating\n",
    "        Xstar_0 += Delta_X\n",
    "        Tstar += Delta_T\n",
    "\n",
    "        norm_delta_X = np.linalg.norm(Delta_X)\n",
    "        Norm_B[k] = np.linalg.norm(B)\n",
    "\n",
    "        k = k+1\n",
    "        \n",
    "    # Compute the eigenvalues (Floquet multipliers) of the monodromy matrix\n",
    "    # eigenvalues, eigenvectors = np.linalg.eig(monodromy)\n",
    "    return k, T_by_iter, X_by_iter, Norm_B, Norm_DeltaX, monodromy#, eigenvalues\n"
   ]
  },
  {
   "cell_type": "code",
   "execution_count": null,
   "metadata": {},
   "outputs": [],
   "source": [
    "Max_iter,epsilon = 100, 1e-12\n",
    "A = 1.1\n",
    "m = 2.5e-2\n",
    "gamma = 1e-3\n",
    "w = 1e-2\n",
    "params = (A,m,w,gamma)\n",
    "L0, D0 = -6.1, 0.98#-np.log(A-1)+0.001, 1.005 #-5. ,1#0.9805 # m+1\n",
    "X0 = np.array([L0,D0,0.0])\n",
    "T0 = 2*np.pi/w"
   ]
  },
  {
   "cell_type": "code",
   "execution_count": null,
   "metadata": {},
   "outputs": [],
   "source": [
    "M = np.array([[5,2,3], [4,5,6],[7,8,9]])\n",
    "print(np.linalg.det(M))\n",
    "M = Jacf_modul(T0,X0,m,gamma) @ M\n",
    "\n",
    "np.linalg.det(M)"
   ]
  },
  {
   "cell_type": "code",
   "execution_count": null,
   "metadata": {},
   "outputs": [],
   "source": [
    "k, XX,Norm_DeltaX,Norm_B, M = Newton_orbite_T_known(f_modul, X0,T0, A, m, w, gamma, Jacf_modul, Max_iter, epsilon)\n"
   ]
  },
  {
   "cell_type": "code",
   "execution_count": null,
   "metadata": {},
   "outputs": [],
   "source": [
    "k, Tstar, XX, Norm_B, Norm_DX,M = Newton_orbit(f_modul,s_modul2, X0,T0,A, m, w,gamma,\n",
    "                                                Jacf_modul,GradS_modul2,ds_T_modul, Max_iter, epsilon)"
   ]
  },
  {
   "cell_type": "code",
   "execution_count": null,
   "metadata": {},
   "outputs": [],
   "source": [
    "np.set_printoptions(precision=18)\n",
    "print(XX[k-1])\n",
    "print(Tstar[k-1])\n",
    "k"
   ]
  },
  {
   "cell_type": "markdown",
   "metadata": {},
   "source": [
    "## Ploting"
   ]
  },
  {
   "cell_type": "code",
   "execution_count": null,
   "metadata": {},
   "outputs": [],
   "source": [
    "fig, ax = plt.subplots(1,4,sharex='all')\n",
    "Tab = np.asarray(XX[:k])\n",
    "ax[0].plot(np.arange(k),Tab[:,1],'+-')\n",
    "ax[0].set_xlabel(\"Newton iterations\")\n",
    "ax[0].set_ylabel(f\"$D_0$\")\n",
    "\n",
    "ax[1].plot(np.arange(k),Tab[:,0],'+-')\n",
    "ax[1].set_xlabel(\"Newton iterations\")\n",
    "ax[1].set_ylabel(f\"$L_0$\")\n",
    "ax[2].semilogy(np.arange(1,k),Norm_DeltaX[1:k],'x-')\n",
    "ax[2].set_xlabel(\"Newton iterations\")\n",
    "ax[2].set_ylabel(f\"$\\parallel \\Delta X \\parallel_2$\")\n",
    "ax[3].semilogy(np.arange(1,k),Norm_B[1:k],'x-')\n",
    "ax[3].set_xlabel(\"Newton iterations\")\n",
    "ax[3].set_ylabel(f\"$\\parallel \\phi(X_0, T) - X_0 \\parallel_2$\")\n",
    "fig.set_size_inches((12,10))\n",
    "fig.suptitle(f'Modulated Laser: Fixed point by Newton with fixed period $T=%.3f$ \\n $m = %.3f$, $L_0 = %.3f, D_0= %.3f $' % (T0, m, L0,D0))\n",
    "# fig.suptitle('(Rescaled approach Laser model :\\n I0 = %.3f, D0 %.3f} )' % (I0,D0))\n",
    "\n",
    "fig.subplots_adjust(left=0.09, bottom=0.51, right=0.95, top=0.90, hspace=0.55, wspace=0.55)\n",
    "plt.savefig(f'./Results/Modulated_Laser_T_known_m_{str(m)}.png')"
   ]
  },
  {
   "cell_type": "markdown",
   "metadata": {},
   "source": [
    "### Poincaré section"
   ]
  },
  {
   "cell_type": "code",
   "execution_count": null,
   "metadata": {},
   "outputs": [],
   "source": [
    "# visual check #2: Poincare section\n",
    "\t# y_init=MyTimestepper.y_last\n",
    "\t# t_init=MyTimestepper.t_init\n",
    "n_per=1000\n",
    "npts_par_per=40\n",
    "t_end=T0*n_per\n",
    "# 1 point per period\n",
    "t_eval=np.linspace(0,t_end,n_per+1) \n",
    "\n",
    "\n",
    "# sol=MyTimestepper.integrate([0,t_end],X0,t_eval=t_eval)\n",
    "\n",
    "sol = solve_ivp(fun=f_modul,t_span=[0.0, t_end],\n",
    "                t_eval=t_eval, \n",
    "                y0=X0, method='RK45', \n",
    "                args = params,\n",
    "                **{\"rtol\": 1e-5,\"atol\":1e-7}\n",
    "                )\n",
    "print(t_eval.shape,sol.y[0,:].shape)\n",
    "\n",
    "\n",
    "fig1=plt.figure()\n",
    "ax1=fig1.add_subplot(2,1,1)\n",
    "ax1.plot(sol.y[0,:],sol.y[1,:],'.',markersize=2)\n",
    "plt.tight_layout()\n"
   ]
  },
  {
   "cell_type": "markdown",
   "metadata": {},
   "source": [
    "## Solving the ODE with the found fixed point "
   ]
  },
  {
   "cell_type": "code",
   "execution_count": null,
   "metadata": {},
   "outputs": [],
   "source": [
    "X0 = np.array(XX[k-1])\n",
    "sol = solve_ivp(fun=f_modul,t_span=[0.0, 4*T0],\n",
    "                t_eval=np.linspace(0.0,4*T0, 1000), \n",
    "                y0=X0, method='RK45', \n",
    "                args = params,\n",
    "                **{\"rtol\": 1e-5,\"atol\":1e-7}\n",
    "                )"
   ]
  },
  {
   "cell_type": "code",
   "execution_count": null,
   "metadata": {},
   "outputs": [],
   "source": [
    "X = sol.y \n",
    "times_intervall = sol.t\n",
    "plt.plot(times_intervall,X[0,:])\n",
    "# plt.xlim([0,1100])\n",
    "plt.grid()\n",
    "plt.xlabel(\"time\")\n",
    "plt.ylabel(\"L0\")\n",
    "plt.show()\n",
    "\n",
    "plt.plot(times_intervall,X[1,:])\n",
    "plt.ylabel(\"D0\")\n",
    "plt.grid()\n",
    "plt.show()\n",
    "\n",
    "plt.plot(X[0,:], X[1,:])\n",
    "plt.grid()\n"
   ]
  },
  {
   "cell_type": "code",
   "execution_count": null,
   "metadata": {},
   "outputs": [],
   "source": [
    "eigvalues, eigvec = np.linalg.eig(M)\n",
    "eigvalues\n",
    "# Norm_B[k-1]"
   ]
  }
 ],
 "metadata": {
  "kernelspec": {
   "display_name": ".venv",
   "language": "python",
   "name": "python3"
  },
  "language_info": {
   "codemirror_mode": {
    "name": "ipython",
    "version": 3
   },
   "file_extension": ".py",
   "mimetype": "text/x-python",
   "name": "python",
   "nbconvert_exporter": "python",
   "pygments_lexer": "ipython3",
   "version": "3.9.13"
  }
 },
 "nbformat": 4,
 "nbformat_minor": 2
}
