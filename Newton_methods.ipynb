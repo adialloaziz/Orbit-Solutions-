{
 "cells": [
  {
   "cell_type": "code",
   "execution_count": 1,
   "metadata": {},
   "outputs": [],
   "source": [
    "import numpy as np\n",
    "import matplotlib.pyplot as plt\n",
    "from scipy.linalg import expm\n",
    "from scipy.linalg import solve\n",
    "import scipy\n",
    "import scipy.integrate\n",
    "from scipy.integrate import solve_ivp\n"
   ]
  },
  {
   "cell_type": "markdown",
   "metadata": {},
   "source": [
    "## Orbit solution"
   ]
  },
  {
   "cell_type": "code",
   "execution_count": 2,
   "metadata": {},
   "outputs": [],
   "source": [
    "def big_system(t, Y_M, f, Jacf, dim, A, m, w, gamma):\n",
    "    # Solving numerically the initial value problem (dy/dt,dM/dt = (f(t,y),Gradf*M) \n",
    "    X_M = np.zeros((dim+dim**2),dtype=np.float64) #We solve simustanuously d+d*d ODEs to link up the solution and the monodromy matrix computation\n",
    "    M = Y_M[dim:].reshape(dim, dim, order=\"F\")  # Reshape the flat array back into a dim^2 x dim matrix\n",
    "    dM_dt = Jacf(t,Y_M[:dim],gamma) @ M  # Compute the matrix derivative\n",
    "    X_M[:dim] = f(t, Y_M[:dim],A,m,w,gamma)\n",
    "    X_M[dim:] = dM_dt.flatten(order = \"F\")\n",
    "    return X_M"
   ]
  },
  {
   "cell_type": "code",
   "execution_count": null,
   "metadata": {},
   "outputs": [],
   "source": [
    "def monodromy_syst(t, Monodromy, ystar, Jacf, dim, A, a, b, gamma, eta):\n",
    "    # Solving numerically the initial value problem (dy/dt,dM/dt = (f(t,y),Gradf*M) \n",
    "    # X_M = np.zeros((dim+dim**2)) #We solve simustanuously d+d*d ODEs to link up the solution and the monodromy matrix computation\n",
    "    M = Monodromy.reshape(dim, dim, order=\"F\")  # Reshape the flat array back into a dim^2 x dim matrix\n",
    "    dM_dt = Jacf(t,ystar, A, a, b, gamma, eta) @ M  # Compute the matrix derivative\n",
    "    # X_M[:dim] = f(t, Y_M[:dim],A,a,b,gamma,eta)\n",
    "    # X_M[dim:] = dM_dt.flatten(order = \"F\")\n",
    "    return dM_dt.flatten(order = \"F\")"
   ]
  },
  {
   "cell_type": "code",
   "execution_count": null,
   "metadata": {},
   "outputs": [],
   "source": [
    "Y_M = np.asarray([0,1,1,0,0,1])\n",
    "M = np.array([[1,0], [0,1]])\n",
    "A = 5\n",
    "a = b = 0.05\n",
    "gamma, eta = 1e-3, 0.0\n",
    "dim =2\n",
    "X_M = big_system(0, Y_M, f, Gradf, 2, A, a, b, gamma, eta)\n",
    "\n",
    "\n",
    "print(X_M)\n",
    "monodromy_t = X_M[dim:]#.reshape(dim**2, -1, order='F')\n",
    "# print(M.flatten().reshape(2,2))\n",
    "\n",
    "monodromy_t.reshape(dim, dim, order='F')"
   ]
  },
  {
   "cell_type": "code",
   "execution_count": null,
   "metadata": {},
   "outputs": [],
   "source": [
    "#Concat the whole matrix\n",
    "A11 = M\n",
    "b = np.array([5,6])\n",
    "c = np.array([7,8])\n",
    "d = 9\n",
    "top = np.hstack((A11, b.reshape(-1,1)))  # Horizontal stacking of A11 and A12 = b\n",
    "bottom = np.hstack((c.reshape(1,-1),np.array([[d]])))  # Horizontal stacking of A21 =c and A22=d\n",
    "Mat = np.vstack((top, bottom)) \n",
    "print(Mat)"
   ]
  },
  {
   "cell_type": "code",
   "execution_count": 3,
   "metadata": {},
   "outputs": [],
   "source": [
    "def Newton_orbite_T_known(f, X_0,T,A, m, w, gamma, Jacf, Max_iter, epsilon):\n",
    "    \n",
    "    dim = np.shape(X_0)[0] #The problem's dimension\n",
    "\n",
    "    #________________________________INITIALISATION_____________________________________\n",
    "    k, Xstar_0 = 0, X_0\n",
    "    sol = solve_ivp(fun=f,t_span=[0.0, T], y0=X_0, t_eval=[T],\n",
    "                     method='DOP853', args = (A, m, w, gamma), option={\"rtol\": 1e-10,\"atol\":1e-10})\n",
    "    G_Xstar_0 = sol.y[:,-1] - Xstar_0 #We take the solution at t=T\n",
    "    #The complete rhd of the Newton system\n",
    "    B = G_Xstar_0\n",
    "    \n",
    "    monodromy = np.eye(dim,dtype=np.float64) #Initialisation of the monodromy matrix\n",
    "\n",
    "    X_by_iter , Norm_DeltaX= np.zeros((Max_iter+1,dim),dtype=np.float64),np.zeros((Max_iter+1),dtype=np.float64)\n",
    "    X_by_iter[0,:] = Xstar_0\n",
    "    Norm_DeltaX[0] = 1 # np.linalg.norm(B, ord=2)\n",
    "    norm_delta_X =1\n",
    "    #_____________Newton iteration loop____________________\n",
    "    while (norm_delta_X> epsilon  and k<Max_iter):\n",
    "        \n",
    "        #- Solving numerically the initial value problem (dy/dt,dM/dt = (f(t,y),Gradf*M)\n",
    "        X_M = np.zeros((dim+dim**2),dtype=np.float64) \n",
    "\n",
    "        # Flatten the monodromy to a 1D array, as solve_ivp needs a vector\n",
    "        X_M[:dim] = Xstar_0\n",
    "        X_M[dim:] = monodromy.flatten(order='F')\n",
    "        #  Solve the system of ODEs\n",
    "        big_sol= solve_ivp(big_system, [0.0,T], X_M,\n",
    "                            t_eval=[T],\n",
    "                            args=(f,Jacf,dim,A, m, w, gamma),\n",
    "                            method='DOP853',option={\"rtol\": 1e-12,\"atol\":1e-14}) #It's a function of t\n",
    "        \n",
    "        X_M = big_sol.y[:,-1] #dimension d+d*d\n",
    "        Xstar_T = X_M[:dim] # The solution at T\n",
    "        monodromy = X_M[dim:] #We take M(T)\n",
    "        monodromy = monodromy.reshape(dim,dim, order = \"F\") #Back to the square matrix format\n",
    "        #______Computation of DeltaX and DeltaT_____\n",
    "        #Concat the whole matrix\n",
    "        Mat = monodromy - np.eye(dim,dtype=np.float64)\n",
    "        \n",
    "        #Right hand side concatenation\n",
    "        G_Xstar_0 = Xstar_T - Xstar_0\n",
    "        B = G_Xstar_0\n",
    "\n",
    "        Delta_X = solve(Mat,-B) #Contain Delta_X and Delta_T\n",
    "        # Delta_X = np.linalg.lstsq(Mat, -B, rcond=None)[0]\n",
    "        print(\"Iteration\", k, \"\\n\")\n",
    "        print(\"Norm(Dx) = \", norm_delta_X,\"\\n\")\n",
    "\n",
    "        #Updating\n",
    "        Xstar_0 = Delta_X + Xstar_0\n",
    "        norm_delta_X = np.linalg.norm(Delta_X,ord=2)\n",
    "        k = k+1\n",
    "        X_by_iter[k,:] = Xstar_0\n",
    "        Norm_DeltaX[k] = norm_delta_X\n",
    "    # eigenvalues, eigenvectors = np.linalg.eig(monodromy)\n",
    "    return k, X_by_iter, Norm_DeltaX, monodromy"
   ]
  },
  {
   "cell_type": "markdown",
   "metadata": {},
   "source": [
    "### APPLICATION TO THE LASER EQUATION"
   ]
  },
  {
   "cell_type": "code",
   "execution_count": null,
   "metadata": {},
   "outputs": [],
   "source": [
    "K = lambda a,b,X: 1 + a/(1+b*X)\n",
    "def f(t,X, A, a, b, gamma, eta): \n",
    "        return np.array([(X[1] - K(a,b,X[0]))*X[0] + eta*X[1],\n",
    "                                  (A-X[1]-X[1]*X[0])*gamma])\n",
    "\n",
    "Jacf = lambda t,X,A,a,b,gamma,eta: np.array([[a*b*X[0]/(1+b*X[0])**2 + X[1] - K(a,b,X[0]), \n",
    "                                                 X[0]+ eta],\n",
    "                                                 [-gamma*X[1],-gamma*(1+X[0])]])\n",
    "\n",
    "#Definition of the rescaled system: t = t/T\n",
    "def F(t,X, A, a, b, gamma, eta): \n",
    "        return X[2]*np.array([(X[1] - K(a,b,X[0]))*X[0] + eta*X[1],\n",
    "                                  (A-X[1]-X[1]*X[0])*gamma,0])\n",
    "\n",
    "# Jac_F = lambda t,X,A,a,b,gamma,eta: np.array([[X[2]*(a*b*X[0]/(1+b*X[0])**2 + X[1] - K(a,b,X[0])), \n",
    "                                                #  X[2]*(X[0]+ eta), (X[1] - K(a,b,X[0]))*X[0] + eta*X[1]]\n",
    "                                                #  [-X[2]*gamma*X[1],-X[2]*gamma*(1+X[0]),(A-X[1]-X[1]*X[0])*gamma],\n",
    "                                                #   [0,0,0]])\n",
    "\n",
    "# # Variable chang L = log(I)\n",
    "# fL = lambda t,X,A,a,b,gamma,eta: np.array([(X[1] - K(a,b,np.exp(X[0]))) + eta*X[1]/np.exp(X[0]),\n",
    "#                                   (A-X[1]-X[1]*np.exp(X[0]))*gamma])\n",
    "\n",
    "# GradfL = lambda t,X,A,a,b,gamma,eta: np.array([[a*b*np.exp(X[0])/(1+b*np.exp(X[0]))**2 -eta*X[1]*np.exp(-X[0]), \n",
    "#                                                  1 + eta*np.exp(-X[0])],\n",
    "#                                                  [-gamma*X[1]*np.exp(X[0]),-gamma*(1+np.exp(X[0]))]])\n",
    "\n",
    "s = lambda t,X,A,gamma: gamma*(A-X[1]-X[1]*X[0])\n",
    "ds_T = lambda t,X : 0.0\n",
    "GradS_D = lambda t,X,a,b,gamma,eta,: np.array([-gamma*X[1],-gamma*(1+X[0])]) #Phase condition over D\n",
    "\n",
    "# GradS_I = lambda t,X,a,b,gamma,eta: np.array([a*b*X[0]/(1+b*X[0])**2 + X[1] - K(a,b,X[0]),X[0]+ eta]) #Phase condition over I\n"
   ]
  },
  {
   "cell_type": "code",
   "execution_count": null,
   "metadata": {},
   "outputs": [],
   "source": [
    "def verif_jac(f,Jac,t,X, A, a, b, gamma, eta,h):\n",
    "    dim = len(X)\n",
    "    Jac_num = np.zeros((dim,dim))\n",
    "    for j in range(dim):\n",
    "        e = h*np.eye(1,dim,j)[0] #Canonical vector basis\n",
    "\n",
    "        Jac_num[:,j]=(f(t,X+e, A, a, b, gamma, eta) - f(t,X, A, a, b, gamma, eta))/h\n",
    "        # print(Jac_num)\n",
    "    res = Jac_num -Jac(t,X, A, a, b, gamma, eta)\n",
    "    return np.linalg.norm(res)"
   ]
  },
  {
   "cell_type": "code",
   "execution_count": null,
   "metadata": {},
   "outputs": [],
   "source": [
    "Max_iter = 200\n",
    "epsilon = 1e-15\n",
    "A,a,b = 5, 0.05, 0.05\n",
    "gamma, eta = 1e-3, 0.0\n",
    "args = (A,a,b,gamma,eta)\n",
    "I0, D0 = 22.5,1.05 #1.25, 1.20#3.96356544, 1.0073404#24., 1.025\n",
    "T0 = 127\n",
    "X0 = np.array([I0,D0])"
   ]
  },
  {
   "cell_type": "code",
   "execution_count": null,
   "metadata": {},
   "outputs": [],
   "source": [
    "Err = []\n",
    "H = []\n",
    "for k in range(10,1000,2): #[1e-6,1e-8,1e-10,1e-12,1e-14,1e-16]:\n",
    "    h = 1/(k**2)\n",
    "    Err.append(verif_jac(f,Jacf,T0,X0, A, a,b, gamma, eta,h))\n",
    "    H.append(h)"
   ]
  },
  {
   "cell_type": "code",
   "execution_count": null,
   "metadata": {},
   "outputs": [],
   "source": [
    "# H = np.array([1e-6,1e-8,1e-10,1e-12,1e-14,1e-16])\n",
    "fig = plt.figure()\n",
    "H = np.array(H)\n",
    "plt.loglog(H,Err,'+-', label='Err J_num - J_anal')\n",
    "plt.loglog(H,0.006199*H,label = 'slope p=1')\n",
    "plt.xlabel(r'$h=\\frac{1}{k^2}, k = 10,...100$')\n",
    "plt.legend()\n",
    "plt.title(\"Numerical verification of the Jacobian analytical computation:\\n Modulated Laser Model\")\n",
    "plt.grid()\n",
    "# plt.savefig('./Results/jacobian_check.png')"
   ]
  },
  {
   "cell_type": "code",
   "execution_count": null,
   "metadata": {},
   "outputs": [],
   "source": [
    "sol = solve_ivp(fun=f,t_span=[0.0, 50*T0],\n",
    "                t_eval=np.linspace(0.0, 50*T0,100), \n",
    "                y0=X0, method='RK45', \n",
    "                args = args,vectorized=False,\n",
    "                **{\"rtol\": 1e-3,\"atol\":1e-6}\n",
    "                )\n",
    "Y = sol.y[:,-1]\n",
    "# sol2 = solve_ivp(fun=f,t_span=[0.0, 5*T0],\n",
    "                # t_eval=np.linspace(0.0, 5*T0,100), \n",
    "                # y0=X0, method='RK45', \n",
    "                # args = args,vectorized=False,\n",
    "                # **{\"rtol\": 1e-3,\"atol\":1e-6})"
   ]
  },
  {
   "cell_type": "code",
   "execution_count": null,
   "metadata": {},
   "outputs": [],
   "source": [
    "print(Y)\n",
    "print(sol2.y[:,-1])"
   ]
  },
  {
   "cell_type": "code",
   "execution_count": null,
   "metadata": {},
   "outputs": [],
   "source": [
    "k_D, XX_D,Norm_B, M_D = Newton_orbite_T_known(f, X0,T0,\n",
    "                                               args, Jacf, Max_iter, epsilon)\n"
   ]
  },
  {
   "cell_type": "code",
   "execution_count": null,
   "metadata": {},
   "outputs": [],
   "source": [
    "k, Tstar, XX,Norm_B, M = Newton_orbit3(f,F,s, X0,T0,args, Jacf,GradS_D,ds_T, Max_iter, epsilon)"
   ]
  },
  {
   "cell_type": "markdown",
   "metadata": {},
   "source": [
    "### Modulated Laser Model"
   ]
  },
  {
   "cell_type": "code",
   "execution_count": null,
   "metadata": {},
   "outputs": [],
   "source": [
    "def f_modul(t,X, A, m, w, gamma): \n",
    "        return np.array([X[1] - 1 - m*np.cos(w*t) ,\n",
    "                            (A - X[1]*(1 + np.exp(X[0])))*gamma])\n",
    "\n",
    "Jacf_modul = lambda t,X,gamma: np.array([[0,1],\n",
    "                                                [-gamma*X[1]*np.exp(X[0]),-gamma*(1+np.exp(X[0]))]])\n",
    "s_modul = lambda t,X,A,m,w,gamma : X[1] - 1 - m\n",
    "GradS_modul = lambda t,X,A,m,w,gamma: np.array([0,1])\n",
    "\n",
    "s_modul2 = lambda t,X, A,m,w,gamma: gamma*(A - X[1]*(1+np.exp(X[0])))\n",
    "GradS_modul2 = lambda t,X,A,m,w,gamma: np.array([-gamma*X[1]*np.exp(X[0]),-gamma*(1+np.exp(X[0]))])\n",
    "\n",
    "ds_T_modul = lambda t,X: 0.0"
   ]
  },
  {
   "cell_type": "code",
   "execution_count": null,
   "metadata": {},
   "outputs": [],
   "source": [
    "Max_iter = 200\n",
    "epsilon = 1e-13\n",
    "A = 1.1\n",
    "m = 2.5e-2\n",
    "gamma = 1e-3\n",
    "w = 1e-2\n",
    "eta = 0\n",
    "params = (A,m,w,gamma)\n",
    "L0, D0 = -5.878379158004416, 0.985996818660573#-np.log(A-1)+0.001, 1.005 #-5. ,1#0.9805 # m+1\n",
    "X0 = np.array([L0,D0]) + 1e-4\n",
    "T0 = 2*np.pi/w"
   ]
  },
  {
   "cell_type": "code",
   "execution_count": null,
   "metadata": {},
   "outputs": [],
   "source": [
    "sol = solve_ivp(fun=f_modul,t_span=[0.0, 5*T0],\n",
    "                t_eval=[T0], #np.linspace(0.0,5*T0, 1000), \n",
    "                y0=X0, method='RK45', \n",
    "                args = params,vectorized=False,\n",
    "                **{\"rtol\": 1e-10,\"atol\":1e-10}\n",
    "                )"
   ]
  },
  {
   "cell_type": "code",
   "execution_count": null,
   "metadata": {},
   "outputs": [],
   "source": [
    "sol.y[:,-1]"
   ]
  },
  {
   "cell_type": "code",
   "execution_count": null,
   "metadata": {},
   "outputs": [],
   "source": [
    "k, XX,Norm_DeltaX, M = Newton_orbite_T_known(f_modul, X0,T0, A, m, w, gamma, Jacf_modul, Max_iter, epsilon)\n"
   ]
  },
  {
   "cell_type": "markdown",
   "metadata": {},
   "source": [
    "### Ploting"
   ]
  },
  {
   "cell_type": "code",
   "execution_count": null,
   "metadata": {},
   "outputs": [],
   "source": [
    "# print(Tstar_D[k_I-1])\n",
    "# print(XX_D[k_I-1])\n",
    "# print(Tstar[k])\n",
    "print(XX[k])\n",
    "k"
   ]
  },
  {
   "cell_type": "code",
   "execution_count": null,
   "metadata": {},
   "outputs": [],
   "source": [
    "fig, ax = plt.subplots(1,3,sharex='all')\n",
    "Tab = np.asarray(XX[:k])\n",
    "ax[0].plot(np.arange(k),Tab[:,1],'+-')\n",
    "ax[0].set_xlabel(\"Newton iterations\")\n",
    "ax[0].set_ylabel(f\"$D_0$\")\n",
    "\n",
    "ax[1].plot(np.arange(k),Tab[:,0],'+-')\n",
    "ax[1].set_xlabel(\"Newton iterations\")\n",
    "ax[1].set_ylabel(f\"$L_0$\")\n",
    "ax[2].semilogy(np.arange(1,k),Norm_DeltaX[1:k],'x-')\n",
    "ax[2].set_xlabel(\"Newton iterations\")\n",
    "ax[2].set_ylabel(f\"$\\parallel \\Delta X \\parallel$\")\n",
    "fig.set_size_inches((10,8))\n",
    "fig.suptitle(f'Modulated Laser: Fixed point by Newton with fixed period $T=%.3f$ \\n $m = %.3f$, $L_0 = %.3f, D_0= %.3f $' % (T0, m, L0,D0))\n",
    "# fig.suptitle('(Rescaled approach Laser model :\\n I0 = %.3f, D0 %.3f} )' % (I0,D0))\n",
    "\n",
    "fig.subplots_adjust(left=0.09, bottom=0.51, right=0.95, top=0.90, hspace=0.55, wspace=0.55)\n",
    "plt.savefig('./Results/Modulated_Laser_T_known.png')"
   ]
  },
  {
   "cell_type": "code",
   "execution_count": null,
   "metadata": {},
   "outputs": [],
   "source": [
    "X0 = np.array(XX[k])\n",
    "print(X0)\n",
    "# X0 = np.array([-2.30,  1.02])\n",
    "# T = Tstar_D[k_D-1]\n",
    "sol = solve_ivp(fun=f_modul,t_span=[0.0, 5*T0],\n",
    "                t_eval=np.linspace(0.0,5*T0, 10000), \n",
    "                y0=X0, method='RK45', \n",
    "                args = params,vectorized=False,\n",
    "                **{\"rtol\": 1e-12,\"atol\":1e-14}\n",
    "                )"
   ]
  },
  {
   "cell_type": "code",
   "execution_count": null,
   "metadata": {},
   "outputs": [],
   "source": [
    "X = sol.y\n",
    "times_intervall = sol.t\n",
    "# plt.plot(times_intervall,X[0,:])\n",
    "# plt.xlim([0,1100])\n",
    "plt.plot(times_intervall,X[0,:])\n",
    "plt.grid()\n",
    "plt.xlabel(\"time\")\n",
    "plt.ylabel(\"L0\")\n",
    "plt.show()\n",
    "plt.plot(times_intervall,X[1,:])\n",
    "plt.ylabel(\"D0\")\n",
    "plt.show()\n",
    "plt.plot(X[0,:], X[1,:])\n",
    "plt.grid()\n",
    "\n",
    "X.shape\n"
   ]
  },
  {
   "cell_type": "code",
   "execution_count": null,
   "metadata": {},
   "outputs": [],
   "source": [
    "eigenvalues, eigenvectors = np.linalg.eig(M_D)\n",
    "print(\"Eigen values of the Monodromy matrix \",eigenvalues)\n",
    "Tab = np.asarray(XX_I[:k_I])\n",
    "plt.plot(np.arange(k_I), Tab[:,0], label = \"I0\")\n",
    "plt.plot(np.arange(k_I),Tab[:,1], label = \"D0\")\n",
    "plt.xlabel(\"Newton iteration\")\n",
    "plt.ylabel(\"I0,D0\")\n",
    "plt.legend()\n",
    "# plt.plot(np.arange(k), Tstar, label = \"T\")\n",
    "XX_I[k_I-1]\n"
   ]
  }
 ],
 "metadata": {
  "kernelspec": {
   "display_name": ".venv",
   "language": "python",
   "name": "python3"
  },
  "language_info": {
   "codemirror_mode": {
    "name": "ipython",
    "version": 3
   },
   "file_extension": ".py",
   "mimetype": "text/x-python",
   "name": "python",
   "nbconvert_exporter": "python",
   "pygments_lexer": "ipython3",
   "version": "3.9.13"
  }
 },
 "nbformat": 4,
 "nbformat_minor": 2
}
